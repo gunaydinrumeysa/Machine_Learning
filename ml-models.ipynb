{
 "cells": [
  {
   "cell_type": "markdown",
   "id": "1e20e26f",
   "metadata": {
    "papermill": {
     "duration": 0.011047,
     "end_time": "2023-06-14T21:44:40.053883",
     "exception": false,
     "start_time": "2023-06-14T21:44:40.042836",
     "status": "completed"
    },
    "tags": []
   },
   "source": [
    "> Naive_Bayes\n",
    "\n",
    "> Decision_Tree\n",
    "\n",
    "> Neural_Networks"
   ]
  },
  {
   "cell_type": "markdown",
   "id": "a19f3be6",
   "metadata": {
    "papermill": {
     "duration": 0.008238,
     "end_time": "2023-06-14T21:44:40.070578",
     "exception": false,
     "start_time": "2023-06-14T21:44:40.062340",
     "status": "completed"
    },
    "tags": []
   },
   "source": [
    "**Naive_Bayes**"
   ]
  },
  {
   "cell_type": "code",
   "execution_count": 1,
   "id": "f06197d5",
   "metadata": {
    "execution": {
     "iopub.execute_input": "2023-06-14T21:44:40.089822Z",
     "iopub.status.busy": "2023-06-14T21:44:40.089321Z",
     "iopub.status.idle": "2023-06-14T21:44:40.101234Z",
     "shell.execute_reply": "2023-06-14T21:44:40.100167Z"
    },
    "papermill": {
     "duration": 0.024427,
     "end_time": "2023-06-14T21:44:40.103603",
     "exception": false,
     "start_time": "2023-06-14T21:44:40.079176",
     "status": "completed"
    },
    "tags": []
   },
   "outputs": [],
   "source": [
    "import pandas as pd"
   ]
  },
  {
   "cell_type": "code",
   "execution_count": 2,
   "id": "752c8f39",
   "metadata": {
    "execution": {
     "iopub.execute_input": "2023-06-14T21:44:40.121961Z",
     "iopub.status.busy": "2023-06-14T21:44:40.121607Z",
     "iopub.status.idle": "2023-06-14T21:44:40.208988Z",
     "shell.execute_reply": "2023-06-14T21:44:40.207692Z"
    },
    "papermill": {
     "duration": 0.099914,
     "end_time": "2023-06-14T21:44:40.211780",
     "exception": false,
     "start_time": "2023-06-14T21:44:40.111866",
     "status": "completed"
    },
    "tags": []
   },
   "outputs": [
    {
     "data": {
      "text/html": [
       "<div>\n",
       "<style scoped>\n",
       "    .dataframe tbody tr th:only-of-type {\n",
       "        vertical-align: middle;\n",
       "    }\n",
       "\n",
       "    .dataframe tbody tr th {\n",
       "        vertical-align: top;\n",
       "    }\n",
       "\n",
       "    .dataframe thead th {\n",
       "        text-align: right;\n",
       "    }\n",
       "</style>\n",
       "<table border=\"1\" class=\"dataframe\">\n",
       "  <thead>\n",
       "    <tr style=\"text-align: right;\">\n",
       "      <th></th>\n",
       "      <th>diagnosis</th>\n",
       "      <th>radius_mean</th>\n",
       "      <th>texture_mean</th>\n",
       "      <th>perimeter_mean</th>\n",
       "      <th>area_mean</th>\n",
       "      <th>smoothness_mean</th>\n",
       "      <th>compactness_mean</th>\n",
       "      <th>concavity_mean</th>\n",
       "      <th>concave points_mean</th>\n",
       "      <th>symmetry_mean</th>\n",
       "      <th>...</th>\n",
       "      <th>radius_worst</th>\n",
       "      <th>texture_worst</th>\n",
       "      <th>perimeter_worst</th>\n",
       "      <th>area_worst</th>\n",
       "      <th>smoothness_worst</th>\n",
       "      <th>compactness_worst</th>\n",
       "      <th>concavity_worst</th>\n",
       "      <th>concave points_worst</th>\n",
       "      <th>symmetry_worst</th>\n",
       "      <th>fractal_dimension_worst</th>\n",
       "    </tr>\n",
       "  </thead>\n",
       "  <tbody>\n",
       "    <tr>\n",
       "      <th>0</th>\n",
       "      <td>M</td>\n",
       "      <td>1.097064</td>\n",
       "      <td>-2.073335</td>\n",
       "      <td>1.269934</td>\n",
       "      <td>0.984375</td>\n",
       "      <td>1.568466</td>\n",
       "      <td>3.283515</td>\n",
       "      <td>2.652874</td>\n",
       "      <td>2.532475</td>\n",
       "      <td>2.217515</td>\n",
       "      <td>...</td>\n",
       "      <td>1.886690</td>\n",
       "      <td>-1.359293</td>\n",
       "      <td>2.303601</td>\n",
       "      <td>2.001237</td>\n",
       "      <td>1.307686</td>\n",
       "      <td>2.616665</td>\n",
       "      <td>2.109526</td>\n",
       "      <td>2.296076</td>\n",
       "      <td>2.750622</td>\n",
       "      <td>1.937015</td>\n",
       "    </tr>\n",
       "    <tr>\n",
       "      <th>1</th>\n",
       "      <td>M</td>\n",
       "      <td>1.829821</td>\n",
       "      <td>-0.353632</td>\n",
       "      <td>1.685955</td>\n",
       "      <td>1.908708</td>\n",
       "      <td>-0.826962</td>\n",
       "      <td>-0.487072</td>\n",
       "      <td>-0.023846</td>\n",
       "      <td>0.548144</td>\n",
       "      <td>0.001392</td>\n",
       "      <td>...</td>\n",
       "      <td>1.805927</td>\n",
       "      <td>-0.369203</td>\n",
       "      <td>1.535126</td>\n",
       "      <td>1.890489</td>\n",
       "      <td>-0.375612</td>\n",
       "      <td>-0.430444</td>\n",
       "      <td>-0.146749</td>\n",
       "      <td>1.087084</td>\n",
       "      <td>-0.243890</td>\n",
       "      <td>0.281190</td>\n",
       "    </tr>\n",
       "    <tr>\n",
       "      <th>2</th>\n",
       "      <td>M</td>\n",
       "      <td>1.579888</td>\n",
       "      <td>0.456187</td>\n",
       "      <td>1.566503</td>\n",
       "      <td>1.558884</td>\n",
       "      <td>0.942210</td>\n",
       "      <td>1.052926</td>\n",
       "      <td>1.363478</td>\n",
       "      <td>2.037231</td>\n",
       "      <td>0.939685</td>\n",
       "      <td>...</td>\n",
       "      <td>1.511870</td>\n",
       "      <td>-0.023974</td>\n",
       "      <td>1.347475</td>\n",
       "      <td>1.456285</td>\n",
       "      <td>0.527407</td>\n",
       "      <td>1.082932</td>\n",
       "      <td>0.854974</td>\n",
       "      <td>1.955000</td>\n",
       "      <td>1.152255</td>\n",
       "      <td>0.201391</td>\n",
       "    </tr>\n",
       "    <tr>\n",
       "      <th>3</th>\n",
       "      <td>M</td>\n",
       "      <td>-0.768909</td>\n",
       "      <td>0.253732</td>\n",
       "      <td>-0.592687</td>\n",
       "      <td>-0.764464</td>\n",
       "      <td>3.283553</td>\n",
       "      <td>3.402909</td>\n",
       "      <td>1.915897</td>\n",
       "      <td>1.451707</td>\n",
       "      <td>2.867383</td>\n",
       "      <td>...</td>\n",
       "      <td>-0.281464</td>\n",
       "      <td>0.133984</td>\n",
       "      <td>-0.249939</td>\n",
       "      <td>-0.550021</td>\n",
       "      <td>3.394275</td>\n",
       "      <td>3.893397</td>\n",
       "      <td>1.989588</td>\n",
       "      <td>2.175786</td>\n",
       "      <td>6.046041</td>\n",
       "      <td>4.935010</td>\n",
       "    </tr>\n",
       "    <tr>\n",
       "      <th>4</th>\n",
       "      <td>M</td>\n",
       "      <td>1.750297</td>\n",
       "      <td>-1.151816</td>\n",
       "      <td>1.776573</td>\n",
       "      <td>1.826229</td>\n",
       "      <td>0.280372</td>\n",
       "      <td>0.539340</td>\n",
       "      <td>1.371011</td>\n",
       "      <td>1.428493</td>\n",
       "      <td>-0.009560</td>\n",
       "      <td>...</td>\n",
       "      <td>1.298575</td>\n",
       "      <td>-1.466770</td>\n",
       "      <td>1.338539</td>\n",
       "      <td>1.220724</td>\n",
       "      <td>0.220556</td>\n",
       "      <td>-0.313395</td>\n",
       "      <td>0.613179</td>\n",
       "      <td>0.729259</td>\n",
       "      <td>-0.868353</td>\n",
       "      <td>-0.397100</td>\n",
       "    </tr>\n",
       "  </tbody>\n",
       "</table>\n",
       "<p>5 rows × 31 columns</p>\n",
       "</div>"
      ],
      "text/plain": [
       "  diagnosis  radius_mean  texture_mean  perimeter_mean  area_mean  \\\n",
       "0         M     1.097064     -2.073335        1.269934   0.984375   \n",
       "1         M     1.829821     -0.353632        1.685955   1.908708   \n",
       "2         M     1.579888      0.456187        1.566503   1.558884   \n",
       "3         M    -0.768909      0.253732       -0.592687  -0.764464   \n",
       "4         M     1.750297     -1.151816        1.776573   1.826229   \n",
       "\n",
       "   smoothness_mean  compactness_mean  concavity_mean  concave points_mean  \\\n",
       "0         1.568466          3.283515        2.652874             2.532475   \n",
       "1        -0.826962         -0.487072       -0.023846             0.548144   \n",
       "2         0.942210          1.052926        1.363478             2.037231   \n",
       "3         3.283553          3.402909        1.915897             1.451707   \n",
       "4         0.280372          0.539340        1.371011             1.428493   \n",
       "\n",
       "   symmetry_mean  ...  radius_worst  texture_worst  perimeter_worst  \\\n",
       "0       2.217515  ...      1.886690      -1.359293         2.303601   \n",
       "1       0.001392  ...      1.805927      -0.369203         1.535126   \n",
       "2       0.939685  ...      1.511870      -0.023974         1.347475   \n",
       "3       2.867383  ...     -0.281464       0.133984        -0.249939   \n",
       "4      -0.009560  ...      1.298575      -1.466770         1.338539   \n",
       "\n",
       "   area_worst  smoothness_worst  compactness_worst  concavity_worst  \\\n",
       "0    2.001237          1.307686           2.616665         2.109526   \n",
       "1    1.890489         -0.375612          -0.430444        -0.146749   \n",
       "2    1.456285          0.527407           1.082932         0.854974   \n",
       "3   -0.550021          3.394275           3.893397         1.989588   \n",
       "4    1.220724          0.220556          -0.313395         0.613179   \n",
       "\n",
       "   concave points_worst  symmetry_worst  fractal_dimension_worst  \n",
       "0              2.296076        2.750622                 1.937015  \n",
       "1              1.087084       -0.243890                 0.281190  \n",
       "2              1.955000        1.152255                 0.201391  \n",
       "3              2.175786        6.046041                 4.935010  \n",
       "4              0.729259       -0.868353                -0.397100  \n",
       "\n",
       "[5 rows x 31 columns]"
      ]
     },
     "execution_count": 2,
     "metadata": {},
     "output_type": "execute_result"
    }
   ],
   "source": [
    "dataset = pd.read_csv(\"/kaggle/input/breast-cancer-dataset/breast-cancer (3).csv\")\n",
    "dataset.head()"
   ]
  },
  {
   "cell_type": "code",
   "execution_count": 3,
   "id": "30ad7b55",
   "metadata": {
    "execution": {
     "iopub.execute_input": "2023-06-14T21:44:40.232255Z",
     "iopub.status.busy": "2023-06-14T21:44:40.231833Z",
     "iopub.status.idle": "2023-06-14T21:44:41.648086Z",
     "shell.execute_reply": "2023-06-14T21:44:41.646786Z"
    },
    "papermill": {
     "duration": 1.429887,
     "end_time": "2023-06-14T21:44:41.651187",
     "exception": false,
     "start_time": "2023-06-14T21:44:40.221300",
     "status": "completed"
    },
    "tags": []
   },
   "outputs": [],
   "source": [
    "from sklearn.preprocessing import LabelEncoder\n",
    "labelencoder = LabelEncoder()\n",
    "dataset[\"diagnosis\"]= labelencoder.fit_transform(dataset[\"diagnosis\"].values) "
   ]
  },
  {
   "cell_type": "code",
   "execution_count": 4,
   "id": "5ff4f270",
   "metadata": {
    "execution": {
     "iopub.execute_input": "2023-06-14T21:44:41.671970Z",
     "iopub.status.busy": "2023-06-14T21:44:41.671531Z",
     "iopub.status.idle": "2023-06-14T21:44:41.682886Z",
     "shell.execute_reply": "2023-06-14T21:44:41.681663Z"
    },
    "papermill": {
     "duration": 0.024416,
     "end_time": "2023-06-14T21:44:41.685080",
     "exception": false,
     "start_time": "2023-06-14T21:44:41.660664",
     "status": "completed"
    },
    "tags": []
   },
   "outputs": [],
   "source": [
    "X = dataset.drop(\"diagnosis\", axis =1)\n",
    "y = dataset[\"diagnosis\"]"
   ]
  },
  {
   "cell_type": "code",
   "execution_count": 5,
   "id": "50baa53d",
   "metadata": {
    "execution": {
     "iopub.execute_input": "2023-06-14T21:44:41.705406Z",
     "iopub.status.busy": "2023-06-14T21:44:41.704399Z",
     "iopub.status.idle": "2023-06-14T21:44:41.840631Z",
     "shell.execute_reply": "2023-06-14T21:44:41.839579Z"
    },
    "papermill": {
     "duration": 0.149151,
     "end_time": "2023-06-14T21:44:41.843149",
     "exception": false,
     "start_time": "2023-06-14T21:44:41.693998",
     "status": "completed"
    },
    "tags": []
   },
   "outputs": [],
   "source": [
    "from sklearn.model_selection import train_test_split\n",
    "\n",
    "X_train, X_test, y_train, y_test = train_test_split(X, y, test_size=0.3)"
   ]
  },
  {
   "cell_type": "code",
   "execution_count": 6,
   "id": "2f99622d",
   "metadata": {
    "execution": {
     "iopub.execute_input": "2023-06-14T21:44:41.863595Z",
     "iopub.status.busy": "2023-06-14T21:44:41.862904Z",
     "iopub.status.idle": "2023-06-14T21:44:41.891618Z",
     "shell.execute_reply": "2023-06-14T21:44:41.890352Z"
    },
    "papermill": {
     "duration": 0.04153,
     "end_time": "2023-06-14T21:44:41.893960",
     "exception": false,
     "start_time": "2023-06-14T21:44:41.852430",
     "status": "completed"
    },
    "tags": []
   },
   "outputs": [
    {
     "data": {
      "text/html": [
       "<style>#sk-container-id-1 {color: black;background-color: white;}#sk-container-id-1 pre{padding: 0;}#sk-container-id-1 div.sk-toggleable {background-color: white;}#sk-container-id-1 label.sk-toggleable__label {cursor: pointer;display: block;width: 100%;margin-bottom: 0;padding: 0.3em;box-sizing: border-box;text-align: center;}#sk-container-id-1 label.sk-toggleable__label-arrow:before {content: \"▸\";float: left;margin-right: 0.25em;color: #696969;}#sk-container-id-1 label.sk-toggleable__label-arrow:hover:before {color: black;}#sk-container-id-1 div.sk-estimator:hover label.sk-toggleable__label-arrow:before {color: black;}#sk-container-id-1 div.sk-toggleable__content {max-height: 0;max-width: 0;overflow: hidden;text-align: left;background-color: #f0f8ff;}#sk-container-id-1 div.sk-toggleable__content pre {margin: 0.2em;color: black;border-radius: 0.25em;background-color: #f0f8ff;}#sk-container-id-1 input.sk-toggleable__control:checked~div.sk-toggleable__content {max-height: 200px;max-width: 100%;overflow: auto;}#sk-container-id-1 input.sk-toggleable__control:checked~label.sk-toggleable__label-arrow:before {content: \"▾\";}#sk-container-id-1 div.sk-estimator input.sk-toggleable__control:checked~label.sk-toggleable__label {background-color: #d4ebff;}#sk-container-id-1 div.sk-label input.sk-toggleable__control:checked~label.sk-toggleable__label {background-color: #d4ebff;}#sk-container-id-1 input.sk-hidden--visually {border: 0;clip: rect(1px 1px 1px 1px);clip: rect(1px, 1px, 1px, 1px);height: 1px;margin: -1px;overflow: hidden;padding: 0;position: absolute;width: 1px;}#sk-container-id-1 div.sk-estimator {font-family: monospace;background-color: #f0f8ff;border: 1px dotted black;border-radius: 0.25em;box-sizing: border-box;margin-bottom: 0.5em;}#sk-container-id-1 div.sk-estimator:hover {background-color: #d4ebff;}#sk-container-id-1 div.sk-parallel-item::after {content: \"\";width: 100%;border-bottom: 1px solid gray;flex-grow: 1;}#sk-container-id-1 div.sk-label:hover label.sk-toggleable__label {background-color: #d4ebff;}#sk-container-id-1 div.sk-serial::before {content: \"\";position: absolute;border-left: 1px solid gray;box-sizing: border-box;top: 0;bottom: 0;left: 50%;z-index: 0;}#sk-container-id-1 div.sk-serial {display: flex;flex-direction: column;align-items: center;background-color: white;padding-right: 0.2em;padding-left: 0.2em;position: relative;}#sk-container-id-1 div.sk-item {position: relative;z-index: 1;}#sk-container-id-1 div.sk-parallel {display: flex;align-items: stretch;justify-content: center;background-color: white;position: relative;}#sk-container-id-1 div.sk-item::before, #sk-container-id-1 div.sk-parallel-item::before {content: \"\";position: absolute;border-left: 1px solid gray;box-sizing: border-box;top: 0;bottom: 0;left: 50%;z-index: -1;}#sk-container-id-1 div.sk-parallel-item {display: flex;flex-direction: column;z-index: 1;position: relative;background-color: white;}#sk-container-id-1 div.sk-parallel-item:first-child::after {align-self: flex-end;width: 50%;}#sk-container-id-1 div.sk-parallel-item:last-child::after {align-self: flex-start;width: 50%;}#sk-container-id-1 div.sk-parallel-item:only-child::after {width: 0;}#sk-container-id-1 div.sk-dashed-wrapped {border: 1px dashed gray;margin: 0 0.4em 0.5em 0.4em;box-sizing: border-box;padding-bottom: 0.4em;background-color: white;}#sk-container-id-1 div.sk-label label {font-family: monospace;font-weight: bold;display: inline-block;line-height: 1.2em;}#sk-container-id-1 div.sk-label-container {text-align: center;}#sk-container-id-1 div.sk-container {/* jupyter's `normalize.less` sets `[hidden] { display: none; }` but bootstrap.min.css set `[hidden] { display: none !important; }` so we also need the `!important` here to be able to override the default hidden behavior on the sphinx rendered scikit-learn.org. See: https://github.com/scikit-learn/scikit-learn/issues/21755 */display: inline-block !important;position: relative;}#sk-container-id-1 div.sk-text-repr-fallback {display: none;}</style><div id=\"sk-container-id-1\" class=\"sk-top-container\"><div class=\"sk-text-repr-fallback\"><pre>GaussianNB()</pre><b>In a Jupyter environment, please rerun this cell to show the HTML representation or trust the notebook. <br />On GitHub, the HTML representation is unable to render, please try loading this page with nbviewer.org.</b></div><div class=\"sk-container\" hidden><div class=\"sk-item\"><div class=\"sk-estimator sk-toggleable\"><input class=\"sk-toggleable__control sk-hidden--visually\" id=\"sk-estimator-id-1\" type=\"checkbox\" checked><label for=\"sk-estimator-id-1\" class=\"sk-toggleable__label sk-toggleable__label-arrow\">GaussianNB</label><div class=\"sk-toggleable__content\"><pre>GaussianNB()</pre></div></div></div></div></div>"
      ],
      "text/plain": [
       "GaussianNB()"
      ]
     },
     "execution_count": 6,
     "metadata": {},
     "output_type": "execute_result"
    }
   ],
   "source": [
    "from sklearn.naive_bayes import GaussianNB\n",
    "\n",
    "model = GaussianNB()\n",
    "model.fit(X_train, y_train)"
   ]
  },
  {
   "cell_type": "code",
   "execution_count": 7,
   "id": "39848a78",
   "metadata": {
    "execution": {
     "iopub.execute_input": "2023-06-14T21:44:41.914654Z",
     "iopub.status.busy": "2023-06-14T21:44:41.914258Z",
     "iopub.status.idle": "2023-06-14T21:44:41.926239Z",
     "shell.execute_reply": "2023-06-14T21:44:41.925358Z"
    },
    "papermill": {
     "duration": 0.024774,
     "end_time": "2023-06-14T21:44:41.928339",
     "exception": false,
     "start_time": "2023-06-14T21:44:41.903565",
     "status": "completed"
    },
    "tags": []
   },
   "outputs": [
    {
     "data": {
      "text/plain": [
       "array([0, 0, 0, 1, 1, 1, 1, 0, 1, 1, 1, 1, 1, 0, 1, 0, 0, 1, 0, 1, 1, 1,\n",
       "       0, 0, 0, 0, 1, 0, 0, 1, 1, 0, 0, 1, 1, 0, 1, 0, 1, 1, 1, 1, 1, 1,\n",
       "       1, 0, 1, 1, 0, 0, 0, 0, 0, 0, 1, 0, 0, 1, 1, 0, 0, 0, 0, 0, 0, 1,\n",
       "       0, 1, 0, 0, 0, 0, 0, 0, 0, 1, 1, 0, 0, 0, 0, 0, 0, 0, 1, 0, 0, 0,\n",
       "       1, 0, 1, 0, 1, 0, 0, 0, 1, 1, 1, 0, 0, 1, 0, 0, 0, 0, 0, 0, 1, 0,\n",
       "       1, 1, 0, 1, 0, 0, 0, 0, 0, 0, 0, 1, 1, 0, 0, 1, 0, 0, 0, 0, 0, 1,\n",
       "       0, 1, 1, 1, 0, 1, 1, 1, 1, 0, 0, 1, 0, 1, 1, 0, 1, 1, 0, 0, 0, 0,\n",
       "       0, 0, 0, 0, 0, 0, 0, 0, 0, 1, 0, 1, 1, 1, 1, 0, 0])"
      ]
     },
     "execution_count": 7,
     "metadata": {},
     "output_type": "execute_result"
    }
   ],
   "source": [
    "predictions = model.predict(X_test)\n",
    "predictions"
   ]
  },
  {
   "cell_type": "code",
   "execution_count": 8,
   "id": "6ae8d4af",
   "metadata": {
    "execution": {
     "iopub.execute_input": "2023-06-14T21:44:41.949526Z",
     "iopub.status.busy": "2023-06-14T21:44:41.948802Z",
     "iopub.status.idle": "2023-06-14T21:44:41.957107Z",
     "shell.execute_reply": "2023-06-14T21:44:41.955867Z"
    },
    "papermill": {
     "duration": 0.021733,
     "end_time": "2023-06-14T21:44:41.959309",
     "exception": false,
     "start_time": "2023-06-14T21:44:41.937576",
     "status": "completed"
    },
    "tags": []
   },
   "outputs": [
    {
     "data": {
      "text/plain": [
       "array([[95,  7],\n",
       "       [ 7, 62]])"
      ]
     },
     "execution_count": 8,
     "metadata": {},
     "output_type": "execute_result"
    }
   ],
   "source": [
    "from sklearn.metrics import confusion_matrix\n",
    "\n",
    "confusion_matrix(y_test, predictions)"
   ]
  },
  {
   "cell_type": "code",
   "execution_count": 9,
   "id": "b59b7c50",
   "metadata": {
    "execution": {
     "iopub.execute_input": "2023-06-14T21:44:41.979919Z",
     "iopub.status.busy": "2023-06-14T21:44:41.979426Z",
     "iopub.status.idle": "2023-06-14T21:44:41.992733Z",
     "shell.execute_reply": "2023-06-14T21:44:41.991636Z"
    },
    "papermill": {
     "duration": 0.026343,
     "end_time": "2023-06-14T21:44:41.995018",
     "exception": false,
     "start_time": "2023-06-14T21:44:41.968675",
     "status": "completed"
    },
    "tags": []
   },
   "outputs": [
    {
     "name": "stdout",
     "output_type": "stream",
     "text": [
      "              precision    recall  f1-score   support\n",
      "\n",
      "           0       0.93      0.93      0.93       102\n",
      "           1       0.90      0.90      0.90        69\n",
      "\n",
      "    accuracy                           0.92       171\n",
      "   macro avg       0.91      0.91      0.91       171\n",
      "weighted avg       0.92      0.92      0.92       171\n",
      "\n"
     ]
    }
   ],
   "source": [
    "from sklearn.metrics import classification_report\n",
    "\n",
    "print(classification_report(y_test,predictions))"
   ]
  },
  {
   "cell_type": "markdown",
   "id": "43eb0c76",
   "metadata": {
    "papermill": {
     "duration": 0.008906,
     "end_time": "2023-06-14T21:44:42.013238",
     "exception": false,
     "start_time": "2023-06-14T21:44:42.004332",
     "status": "completed"
    },
    "tags": []
   },
   "source": [
    "**Decision_Tree**"
   ]
  },
  {
   "cell_type": "code",
   "execution_count": 10,
   "id": "42b60fd6",
   "metadata": {
    "execution": {
     "iopub.execute_input": "2023-06-14T21:44:42.034720Z",
     "iopub.status.busy": "2023-06-14T21:44:42.034228Z",
     "iopub.status.idle": "2023-06-14T21:44:42.436246Z",
     "shell.execute_reply": "2023-06-14T21:44:42.434787Z"
    },
    "papermill": {
     "duration": 0.41624,
     "end_time": "2023-06-14T21:44:42.439195",
     "exception": false,
     "start_time": "2023-06-14T21:44:42.022955",
     "status": "completed"
    },
    "tags": []
   },
   "outputs": [],
   "source": [
    "import pandas as pd\n",
    "from sklearn.tree import DecisionTreeClassifier\n",
    "from sklearn.ensemble import RandomForestClassifier\n",
    "from sklearn.model_selection import train_test_split\n",
    "from sklearn.metrics import classification_report"
   ]
  },
  {
   "cell_type": "code",
   "execution_count": 11,
   "id": "bc4de024",
   "metadata": {
    "execution": {
     "iopub.execute_input": "2023-06-14T21:44:42.460954Z",
     "iopub.status.busy": "2023-06-14T21:44:42.460535Z",
     "iopub.status.idle": "2023-06-14T21:44:42.482796Z",
     "shell.execute_reply": "2023-06-14T21:44:42.481310Z"
    },
    "papermill": {
     "duration": 0.036313,
     "end_time": "2023-06-14T21:44:42.485508",
     "exception": false,
     "start_time": "2023-06-14T21:44:42.449195",
     "status": "completed"
    },
    "tags": []
   },
   "outputs": [
    {
     "data": {
      "text/html": [
       "<div>\n",
       "<style scoped>\n",
       "    .dataframe tbody tr th:only-of-type {\n",
       "        vertical-align: middle;\n",
       "    }\n",
       "\n",
       "    .dataframe tbody tr th {\n",
       "        vertical-align: top;\n",
       "    }\n",
       "\n",
       "    .dataframe thead th {\n",
       "        text-align: right;\n",
       "    }\n",
       "</style>\n",
       "<table border=\"1\" class=\"dataframe\">\n",
       "  <thead>\n",
       "    <tr style=\"text-align: right;\">\n",
       "      <th></th>\n",
       "      <th>Survived</th>\n",
       "      <th>Pclass</th>\n",
       "      <th>Sex</th>\n",
       "      <th>Age</th>\n",
       "      <th>SibSp</th>\n",
       "      <th>Parch</th>\n",
       "      <th>Fare</th>\n",
       "      <th>Embarked</th>\n",
       "    </tr>\n",
       "  </thead>\n",
       "  <tbody>\n",
       "    <tr>\n",
       "      <th>0</th>\n",
       "      <td>1</td>\n",
       "      <td>1</td>\n",
       "      <td>0</td>\n",
       "      <td>38.0</td>\n",
       "      <td>1</td>\n",
       "      <td>0</td>\n",
       "      <td>71.2833</td>\n",
       "      <td>0</td>\n",
       "    </tr>\n",
       "    <tr>\n",
       "      <th>1</th>\n",
       "      <td>1</td>\n",
       "      <td>1</td>\n",
       "      <td>0</td>\n",
       "      <td>35.0</td>\n",
       "      <td>1</td>\n",
       "      <td>0</td>\n",
       "      <td>53.1000</td>\n",
       "      <td>2</td>\n",
       "    </tr>\n",
       "    <tr>\n",
       "      <th>2</th>\n",
       "      <td>0</td>\n",
       "      <td>1</td>\n",
       "      <td>1</td>\n",
       "      <td>54.0</td>\n",
       "      <td>0</td>\n",
       "      <td>0</td>\n",
       "      <td>51.8625</td>\n",
       "      <td>2</td>\n",
       "    </tr>\n",
       "    <tr>\n",
       "      <th>3</th>\n",
       "      <td>1</td>\n",
       "      <td>3</td>\n",
       "      <td>0</td>\n",
       "      <td>4.0</td>\n",
       "      <td>1</td>\n",
       "      <td>1</td>\n",
       "      <td>16.7000</td>\n",
       "      <td>2</td>\n",
       "    </tr>\n",
       "    <tr>\n",
       "      <th>4</th>\n",
       "      <td>1</td>\n",
       "      <td>1</td>\n",
       "      <td>0</td>\n",
       "      <td>58.0</td>\n",
       "      <td>0</td>\n",
       "      <td>0</td>\n",
       "      <td>26.5500</td>\n",
       "      <td>2</td>\n",
       "    </tr>\n",
       "  </tbody>\n",
       "</table>\n",
       "</div>"
      ],
      "text/plain": [
       "   Survived  Pclass  Sex   Age  SibSp  Parch     Fare  Embarked\n",
       "0         1       1    0  38.0      1      0  71.2833         0\n",
       "1         1       1    0  35.0      1      0  53.1000         2\n",
       "2         0       1    1  54.0      0      0  51.8625         2\n",
       "3         1       3    0   4.0      1      1  16.7000         2\n",
       "4         1       1    0  58.0      0      0  26.5500         2"
      ]
     },
     "execution_count": 11,
     "metadata": {},
     "output_type": "execute_result"
    }
   ],
   "source": [
    "dataset = pd.read_csv(\"/kaggle/input/titaniccsv/DecisionTrees_titanic.csv\")\n",
    "dataset.head()"
   ]
  },
  {
   "cell_type": "code",
   "execution_count": 12,
   "id": "ab97c3b8",
   "metadata": {
    "execution": {
     "iopub.execute_input": "2023-06-14T21:44:42.507072Z",
     "iopub.status.busy": "2023-06-14T21:44:42.506691Z",
     "iopub.status.idle": "2023-06-14T21:44:42.514802Z",
     "shell.execute_reply": "2023-06-14T21:44:42.513882Z"
    },
    "papermill": {
     "duration": 0.021358,
     "end_time": "2023-06-14T21:44:42.516728",
     "exception": false,
     "start_time": "2023-06-14T21:44:42.495370",
     "status": "completed"
    },
    "tags": []
   },
   "outputs": [],
   "source": [
    "X = dataset.drop(\"Survived\", axis=1)\n",
    "y = dataset.loc[:,\"Survived\"]"
   ]
  },
  {
   "cell_type": "code",
   "execution_count": 13,
   "id": "eb1392f9",
   "metadata": {
    "execution": {
     "iopub.execute_input": "2023-06-14T21:44:42.537616Z",
     "iopub.status.busy": "2023-06-14T21:44:42.537141Z",
     "iopub.status.idle": "2023-06-14T21:44:42.545771Z",
     "shell.execute_reply": "2023-06-14T21:44:42.544641Z"
    },
    "papermill": {
     "duration": 0.022178,
     "end_time": "2023-06-14T21:44:42.548323",
     "exception": false,
     "start_time": "2023-06-14T21:44:42.526145",
     "status": "completed"
    },
    "tags": []
   },
   "outputs": [],
   "source": [
    "X_train, X_test, y_train, y_test = train_test_split(X, y, test_size=0.3)"
   ]
  },
  {
   "cell_type": "code",
   "execution_count": 14,
   "id": "6f181062",
   "metadata": {
    "execution": {
     "iopub.execute_input": "2023-06-14T21:44:42.571059Z",
     "iopub.status.busy": "2023-06-14T21:44:42.570379Z",
     "iopub.status.idle": "2023-06-14T21:44:42.575302Z",
     "shell.execute_reply": "2023-06-14T21:44:42.574500Z"
    },
    "papermill": {
     "duration": 0.01897,
     "end_time": "2023-06-14T21:44:42.577394",
     "exception": false,
     "start_time": "2023-06-14T21:44:42.558424",
     "status": "completed"
    },
    "tags": []
   },
   "outputs": [],
   "source": [
    "decisiontree = DecisionTreeClassifier()\n",
    "randomforest = RandomForestClassifier()"
   ]
  },
  {
   "cell_type": "code",
   "execution_count": 15,
   "id": "8e6c0f26",
   "metadata": {
    "execution": {
     "iopub.execute_input": "2023-06-14T21:44:42.600020Z",
     "iopub.status.busy": "2023-06-14T21:44:42.599328Z",
     "iopub.status.idle": "2023-06-14T21:44:42.780569Z",
     "shell.execute_reply": "2023-06-14T21:44:42.779447Z"
    },
    "papermill": {
     "duration": 0.195414,
     "end_time": "2023-06-14T21:44:42.782799",
     "exception": false,
     "start_time": "2023-06-14T21:44:42.587385",
     "status": "completed"
    },
    "tags": []
   },
   "outputs": [
    {
     "data": {
      "text/html": [
       "<style>#sk-container-id-2 {color: black;background-color: white;}#sk-container-id-2 pre{padding: 0;}#sk-container-id-2 div.sk-toggleable {background-color: white;}#sk-container-id-2 label.sk-toggleable__label {cursor: pointer;display: block;width: 100%;margin-bottom: 0;padding: 0.3em;box-sizing: border-box;text-align: center;}#sk-container-id-2 label.sk-toggleable__label-arrow:before {content: \"▸\";float: left;margin-right: 0.25em;color: #696969;}#sk-container-id-2 label.sk-toggleable__label-arrow:hover:before {color: black;}#sk-container-id-2 div.sk-estimator:hover label.sk-toggleable__label-arrow:before {color: black;}#sk-container-id-2 div.sk-toggleable__content {max-height: 0;max-width: 0;overflow: hidden;text-align: left;background-color: #f0f8ff;}#sk-container-id-2 div.sk-toggleable__content pre {margin: 0.2em;color: black;border-radius: 0.25em;background-color: #f0f8ff;}#sk-container-id-2 input.sk-toggleable__control:checked~div.sk-toggleable__content {max-height: 200px;max-width: 100%;overflow: auto;}#sk-container-id-2 input.sk-toggleable__control:checked~label.sk-toggleable__label-arrow:before {content: \"▾\";}#sk-container-id-2 div.sk-estimator input.sk-toggleable__control:checked~label.sk-toggleable__label {background-color: #d4ebff;}#sk-container-id-2 div.sk-label input.sk-toggleable__control:checked~label.sk-toggleable__label {background-color: #d4ebff;}#sk-container-id-2 input.sk-hidden--visually {border: 0;clip: rect(1px 1px 1px 1px);clip: rect(1px, 1px, 1px, 1px);height: 1px;margin: -1px;overflow: hidden;padding: 0;position: absolute;width: 1px;}#sk-container-id-2 div.sk-estimator {font-family: monospace;background-color: #f0f8ff;border: 1px dotted black;border-radius: 0.25em;box-sizing: border-box;margin-bottom: 0.5em;}#sk-container-id-2 div.sk-estimator:hover {background-color: #d4ebff;}#sk-container-id-2 div.sk-parallel-item::after {content: \"\";width: 100%;border-bottom: 1px solid gray;flex-grow: 1;}#sk-container-id-2 div.sk-label:hover label.sk-toggleable__label {background-color: #d4ebff;}#sk-container-id-2 div.sk-serial::before {content: \"\";position: absolute;border-left: 1px solid gray;box-sizing: border-box;top: 0;bottom: 0;left: 50%;z-index: 0;}#sk-container-id-2 div.sk-serial {display: flex;flex-direction: column;align-items: center;background-color: white;padding-right: 0.2em;padding-left: 0.2em;position: relative;}#sk-container-id-2 div.sk-item {position: relative;z-index: 1;}#sk-container-id-2 div.sk-parallel {display: flex;align-items: stretch;justify-content: center;background-color: white;position: relative;}#sk-container-id-2 div.sk-item::before, #sk-container-id-2 div.sk-parallel-item::before {content: \"\";position: absolute;border-left: 1px solid gray;box-sizing: border-box;top: 0;bottom: 0;left: 50%;z-index: -1;}#sk-container-id-2 div.sk-parallel-item {display: flex;flex-direction: column;z-index: 1;position: relative;background-color: white;}#sk-container-id-2 div.sk-parallel-item:first-child::after {align-self: flex-end;width: 50%;}#sk-container-id-2 div.sk-parallel-item:last-child::after {align-self: flex-start;width: 50%;}#sk-container-id-2 div.sk-parallel-item:only-child::after {width: 0;}#sk-container-id-2 div.sk-dashed-wrapped {border: 1px dashed gray;margin: 0 0.4em 0.5em 0.4em;box-sizing: border-box;padding-bottom: 0.4em;background-color: white;}#sk-container-id-2 div.sk-label label {font-family: monospace;font-weight: bold;display: inline-block;line-height: 1.2em;}#sk-container-id-2 div.sk-label-container {text-align: center;}#sk-container-id-2 div.sk-container {/* jupyter's `normalize.less` sets `[hidden] { display: none; }` but bootstrap.min.css set `[hidden] { display: none !important; }` so we also need the `!important` here to be able to override the default hidden behavior on the sphinx rendered scikit-learn.org. See: https://github.com/scikit-learn/scikit-learn/issues/21755 */display: inline-block !important;position: relative;}#sk-container-id-2 div.sk-text-repr-fallback {display: none;}</style><div id=\"sk-container-id-2\" class=\"sk-top-container\"><div class=\"sk-text-repr-fallback\"><pre>RandomForestClassifier()</pre><b>In a Jupyter environment, please rerun this cell to show the HTML representation or trust the notebook. <br />On GitHub, the HTML representation is unable to render, please try loading this page with nbviewer.org.</b></div><div class=\"sk-container\" hidden><div class=\"sk-item\"><div class=\"sk-estimator sk-toggleable\"><input class=\"sk-toggleable__control sk-hidden--visually\" id=\"sk-estimator-id-2\" type=\"checkbox\" checked><label for=\"sk-estimator-id-2\" class=\"sk-toggleable__label sk-toggleable__label-arrow\">RandomForestClassifier</label><div class=\"sk-toggleable__content\"><pre>RandomForestClassifier()</pre></div></div></div></div></div>"
      ],
      "text/plain": [
       "RandomForestClassifier()"
      ]
     },
     "execution_count": 15,
     "metadata": {},
     "output_type": "execute_result"
    }
   ],
   "source": [
    "decisiontree.fit(X_train, y_train)\n",
    "randomforest.fit(X_train, y_train)"
   ]
  },
  {
   "cell_type": "code",
   "execution_count": 16,
   "id": "587ed889",
   "metadata": {
    "execution": {
     "iopub.execute_input": "2023-06-14T21:44:42.804906Z",
     "iopub.status.busy": "2023-06-14T21:44:42.804429Z",
     "iopub.status.idle": "2023-06-14T21:44:43.397302Z",
     "shell.execute_reply": "2023-06-14T21:44:43.395875Z"
    },
    "papermill": {
     "duration": 0.607267,
     "end_time": "2023-06-14T21:44:43.400085",
     "exception": false,
     "start_time": "2023-06-14T21:44:42.792818",
     "status": "completed"
    },
    "tags": []
   },
   "outputs": [
    {
     "data": {
      "image/png": "[encoded data removed]",
      "text/plain": [
       "<Figure size 1000x1000 with 1 Axes>"
      ]
     },
     "metadata": {},
     "output_type": "display_data"
    }
   ],
   "source": [
    "from sklearn.tree import plot_tree\n",
    "import matplotlib.pyplot as plt\n",
    "\n",
    "fig = plt.figure(figsize = (10,10))\n",
    "plot_tree(decisiontree, max_depth=2,\n",
    "         feature_names= X.columns,\n",
    "         filled=True, impurity = False,\n",
    "         rounded = True, precision=1)\n",
    "\n",
    "plt.show()"
   ]
  },
  {
   "cell_type": "code",
   "execution_count": 17,
   "id": "69cdcce6",
   "metadata": {
    "execution": {
     "iopub.execute_input": "2023-06-14T21:44:43.426592Z",
     "iopub.status.busy": "2023-06-14T21:44:43.425162Z",
     "iopub.status.idle": "2023-06-14T21:44:43.446493Z",
     "shell.execute_reply": "2023-06-14T21:44:43.445540Z"
    },
    "papermill": {
     "duration": 0.037126,
     "end_time": "2023-06-14T21:44:43.449058",
     "exception": false,
     "start_time": "2023-06-14T21:44:43.411932",
     "status": "completed"
    },
    "tags": []
   },
   "outputs": [],
   "source": [
    "decisiontree_pred = decisiontree.predict(X_test)\n",
    "randomforest_pred = randomforest.predict(X_test)"
   ]
  },
  {
   "cell_type": "code",
   "execution_count": 18,
   "id": "0c508646",
   "metadata": {
    "execution": {
     "iopub.execute_input": "2023-06-14T21:44:43.475257Z",
     "iopub.status.busy": "2023-06-14T21:44:43.474803Z",
     "iopub.status.idle": "2023-06-14T21:44:43.488892Z",
     "shell.execute_reply": "2023-06-14T21:44:43.487799Z"
    },
    "papermill": {
     "duration": 0.029854,
     "end_time": "2023-06-14T21:44:43.491545",
     "exception": false,
     "start_time": "2023-06-14T21:44:43.461691",
     "status": "completed"
    },
    "tags": []
   },
   "outputs": [
    {
     "name": "stdout",
     "output_type": "stream",
     "text": [
      "              precision    recall  f1-score   support\n",
      "\n",
      "           0       0.68      0.79      0.73        19\n",
      "           1       0.88      0.81      0.84        36\n",
      "\n",
      "    accuracy                           0.80        55\n",
      "   macro avg       0.78      0.80      0.79        55\n",
      "weighted avg       0.81      0.80      0.80        55\n",
      "\n"
     ]
    }
   ],
   "source": [
    "print(classification_report(y_test, decisiontree_pred))"
   ]
  },
  {
   "cell_type": "code",
   "execution_count": 19,
   "id": "ac19657c",
   "metadata": {
    "execution": {
     "iopub.execute_input": "2023-06-14T21:44:43.516993Z",
     "iopub.status.busy": "2023-06-14T21:44:43.516568Z",
     "iopub.status.idle": "2023-06-14T21:44:43.530999Z",
     "shell.execute_reply": "2023-06-14T21:44:43.529098Z"
    },
    "papermill": {
     "duration": 0.030761,
     "end_time": "2023-06-14T21:44:43.533974",
     "exception": false,
     "start_time": "2023-06-14T21:44:43.503213",
     "status": "completed"
    },
    "tags": []
   },
   "outputs": [
    {
     "name": "stdout",
     "output_type": "stream",
     "text": [
      "              precision    recall  f1-score   support\n",
      "\n",
      "           0       0.75      0.63      0.69        19\n",
      "           1       0.82      0.89      0.85        36\n",
      "\n",
      "    accuracy                           0.80        55\n",
      "   macro avg       0.79      0.76      0.77        55\n",
      "weighted avg       0.80      0.80      0.80        55\n",
      "\n"
     ]
    }
   ],
   "source": [
    "print(classification_report(y_test, randomforest_pred))"
   ]
  },
  {
   "cell_type": "markdown",
   "id": "7f327b31",
   "metadata": {
    "papermill": {
     "duration": 0.011264,
     "end_time": "2023-06-14T21:44:43.557098",
     "exception": false,
     "start_time": "2023-06-14T21:44:43.545834",
     "status": "completed"
    },
    "tags": []
   },
   "source": [
    "**Neural_Networks**"
   ]
  },
  {
   "cell_type": "code",
   "execution_count": 20,
   "id": "c28ae627",
   "metadata": {
    "execution": {
     "iopub.execute_input": "2023-06-14T21:44:43.582378Z",
     "iopub.status.busy": "2023-06-14T21:44:43.581928Z",
     "iopub.status.idle": "2023-06-14T21:45:20.130739Z",
     "shell.execute_reply": "2023-06-14T21:45:20.129483Z"
    },
    "papermill": {
     "duration": 36.564844,
     "end_time": "2023-06-14T21:45:20.133467",
     "exception": false,
     "start_time": "2023-06-14T21:44:43.568623",
     "status": "completed"
    },
    "tags": []
   },
   "outputs": [
    {
     "name": "stderr",
     "output_type": "stream",
     "text": [
      "/opt/conda/lib/python3.10/site-packages/sklearn/datasets/_openml.py:968: FutureWarning: The default value of `parser` will change from `'liac-arff'` to `'auto'` in 1.4. You can set `parser='auto'` to silence this warning. Therefore, an `ImportError` will be raised from 1.4 if the dataset is dense and pandas is not installed. Note that the pandas parser may return different data types. See the Notes Section in fetch_openml's API doc for details.\n",
      "  warn(\n"
     ]
    }
   ],
   "source": [
    "from sklearn.datasets import fetch_openml\n",
    "from sklearn.model_selection import train_test_split\n",
    "\n",
    "X, y = fetch_openml(\"mnist_784\", version=1, return_X_y=True, as_frame=False)\n",
    "X = X / 255.0\n",
    "\n",
    "X_train, X_test, y_train, y_test = train_test_split(X, y, random_state=0, test_size=0.3)"
   ]
  },
  {
   "cell_type": "code",
   "execution_count": 21,
   "id": "8db400a3",
   "metadata": {
    "execution": {
     "iopub.execute_input": "2023-06-14T21:45:20.158786Z",
     "iopub.status.busy": "2023-06-14T21:45:20.158318Z",
     "iopub.status.idle": "2023-06-14T21:45:20.190019Z",
     "shell.execute_reply": "2023-06-14T21:45:20.188979Z"
    },
    "papermill": {
     "duration": 0.047045,
     "end_time": "2023-06-14T21:45:20.192305",
     "exception": false,
     "start_time": "2023-06-14T21:45:20.145260",
     "status": "completed"
    },
    "tags": []
   },
   "outputs": [
    {
     "data": {
      "text/html": [
       "<div>\n",
       "<style scoped>\n",
       "    .dataframe tbody tr th:only-of-type {\n",
       "        vertical-align: middle;\n",
       "    }\n",
       "\n",
       "    .dataframe tbody tr th {\n",
       "        vertical-align: top;\n",
       "    }\n",
       "\n",
       "    .dataframe thead th {\n",
       "        text-align: right;\n",
       "    }\n",
       "</style>\n",
       "<table border=\"1\" class=\"dataframe\">\n",
       "  <thead>\n",
       "    <tr style=\"text-align: right;\">\n",
       "      <th></th>\n",
       "      <th>0</th>\n",
       "      <th>1</th>\n",
       "      <th>2</th>\n",
       "      <th>3</th>\n",
       "      <th>4</th>\n",
       "      <th>5</th>\n",
       "      <th>6</th>\n",
       "      <th>7</th>\n",
       "      <th>8</th>\n",
       "      <th>9</th>\n",
       "      <th>...</th>\n",
       "      <th>775</th>\n",
       "      <th>776</th>\n",
       "      <th>777</th>\n",
       "      <th>778</th>\n",
       "      <th>779</th>\n",
       "      <th>780</th>\n",
       "      <th>781</th>\n",
       "      <th>782</th>\n",
       "      <th>783</th>\n",
       "      <th>label</th>\n",
       "    </tr>\n",
       "  </thead>\n",
       "  <tbody>\n",
       "    <tr>\n",
       "      <th>0</th>\n",
       "      <td>0.0</td>\n",
       "      <td>0.0</td>\n",
       "      <td>0.0</td>\n",
       "      <td>0.0</td>\n",
       "      <td>0.0</td>\n",
       "      <td>0.0</td>\n",
       "      <td>0.0</td>\n",
       "      <td>0.0</td>\n",
       "      <td>0.0</td>\n",
       "      <td>0.0</td>\n",
       "      <td>...</td>\n",
       "      <td>0.0</td>\n",
       "      <td>0.0</td>\n",
       "      <td>0.0</td>\n",
       "      <td>0.0</td>\n",
       "      <td>0.0</td>\n",
       "      <td>0.0</td>\n",
       "      <td>0.0</td>\n",
       "      <td>0.0</td>\n",
       "      <td>0.0</td>\n",
       "      <td>5</td>\n",
       "    </tr>\n",
       "    <tr>\n",
       "      <th>1</th>\n",
       "      <td>0.0</td>\n",
       "      <td>0.0</td>\n",
       "      <td>0.0</td>\n",
       "      <td>0.0</td>\n",
       "      <td>0.0</td>\n",
       "      <td>0.0</td>\n",
       "      <td>0.0</td>\n",
       "      <td>0.0</td>\n",
       "      <td>0.0</td>\n",
       "      <td>0.0</td>\n",
       "      <td>...</td>\n",
       "      <td>0.0</td>\n",
       "      <td>0.0</td>\n",
       "      <td>0.0</td>\n",
       "      <td>0.0</td>\n",
       "      <td>0.0</td>\n",
       "      <td>0.0</td>\n",
       "      <td>0.0</td>\n",
       "      <td>0.0</td>\n",
       "      <td>0.0</td>\n",
       "      <td>0</td>\n",
       "    </tr>\n",
       "    <tr>\n",
       "      <th>2</th>\n",
       "      <td>0.0</td>\n",
       "      <td>0.0</td>\n",
       "      <td>0.0</td>\n",
       "      <td>0.0</td>\n",
       "      <td>0.0</td>\n",
       "      <td>0.0</td>\n",
       "      <td>0.0</td>\n",
       "      <td>0.0</td>\n",
       "      <td>0.0</td>\n",
       "      <td>0.0</td>\n",
       "      <td>...</td>\n",
       "      <td>0.0</td>\n",
       "      <td>0.0</td>\n",
       "      <td>0.0</td>\n",
       "      <td>0.0</td>\n",
       "      <td>0.0</td>\n",
       "      <td>0.0</td>\n",
       "      <td>0.0</td>\n",
       "      <td>0.0</td>\n",
       "      <td>0.0</td>\n",
       "      <td>4</td>\n",
       "    </tr>\n",
       "    <tr>\n",
       "      <th>3</th>\n",
       "      <td>0.0</td>\n",
       "      <td>0.0</td>\n",
       "      <td>0.0</td>\n",
       "      <td>0.0</td>\n",
       "      <td>0.0</td>\n",
       "      <td>0.0</td>\n",
       "      <td>0.0</td>\n",
       "      <td>0.0</td>\n",
       "      <td>0.0</td>\n",
       "      <td>0.0</td>\n",
       "      <td>...</td>\n",
       "      <td>0.0</td>\n",
       "      <td>0.0</td>\n",
       "      <td>0.0</td>\n",
       "      <td>0.0</td>\n",
       "      <td>0.0</td>\n",
       "      <td>0.0</td>\n",
       "      <td>0.0</td>\n",
       "      <td>0.0</td>\n",
       "      <td>0.0</td>\n",
       "      <td>1</td>\n",
       "    </tr>\n",
       "    <tr>\n",
       "      <th>4</th>\n",
       "      <td>0.0</td>\n",
       "      <td>0.0</td>\n",
       "      <td>0.0</td>\n",
       "      <td>0.0</td>\n",
       "      <td>0.0</td>\n",
       "      <td>0.0</td>\n",
       "      <td>0.0</td>\n",
       "      <td>0.0</td>\n",
       "      <td>0.0</td>\n",
       "      <td>0.0</td>\n",
       "      <td>...</td>\n",
       "      <td>0.0</td>\n",
       "      <td>0.0</td>\n",
       "      <td>0.0</td>\n",
       "      <td>0.0</td>\n",
       "      <td>0.0</td>\n",
       "      <td>0.0</td>\n",
       "      <td>0.0</td>\n",
       "      <td>0.0</td>\n",
       "      <td>0.0</td>\n",
       "      <td>9</td>\n",
       "    </tr>\n",
       "  </tbody>\n",
       "</table>\n",
       "<p>5 rows × 785 columns</p>\n",
       "</div>"
      ],
      "text/plain": [
       "     0    1    2    3    4    5    6    7    8    9  ...  775  776  777  778  \\\n",
       "0  0.0  0.0  0.0  0.0  0.0  0.0  0.0  0.0  0.0  0.0  ...  0.0  0.0  0.0  0.0   \n",
       "1  0.0  0.0  0.0  0.0  0.0  0.0  0.0  0.0  0.0  0.0  ...  0.0  0.0  0.0  0.0   \n",
       "2  0.0  0.0  0.0  0.0  0.0  0.0  0.0  0.0  0.0  0.0  ...  0.0  0.0  0.0  0.0   \n",
       "3  0.0  0.0  0.0  0.0  0.0  0.0  0.0  0.0  0.0  0.0  ...  0.0  0.0  0.0  0.0   \n",
       "4  0.0  0.0  0.0  0.0  0.0  0.0  0.0  0.0  0.0  0.0  ...  0.0  0.0  0.0  0.0   \n",
       "\n",
       "   779  780  781  782  783  label  \n",
       "0  0.0  0.0  0.0  0.0  0.0      5  \n",
       "1  0.0  0.0  0.0  0.0  0.0      0  \n",
       "2  0.0  0.0  0.0  0.0  0.0      4  \n",
       "3  0.0  0.0  0.0  0.0  0.0      1  \n",
       "4  0.0  0.0  0.0  0.0  0.0      9  \n",
       "\n",
       "[5 rows x 785 columns]"
      ]
     },
     "execution_count": 21,
     "metadata": {},
     "output_type": "execute_result"
    }
   ],
   "source": [
    "import pandas as pd\n",
    "\n",
    "data = pd.DataFrame(X)\n",
    "data.insert(784, \"label\", y)\n",
    "\n",
    "data.head()"
   ]
  },
  {
   "cell_type": "code",
   "execution_count": 22,
   "id": "6757570b",
   "metadata": {
    "execution": {
     "iopub.execute_input": "2023-06-14T21:45:20.218168Z",
     "iopub.status.busy": "2023-06-14T21:45:20.217704Z",
     "iopub.status.idle": "2023-06-14T21:45:20.231174Z",
     "shell.execute_reply": "2023-06-14T21:45:20.230022Z"
    },
    "papermill": {
     "duration": 0.02911,
     "end_time": "2023-06-14T21:45:20.233483",
     "exception": false,
     "start_time": "2023-06-14T21:45:20.204373",
     "status": "completed"
    },
    "tags": []
   },
   "outputs": [
    {
     "data": {
      "text/plain": [
       "array([0.        , 0.        , 0.        , 0.        , 0.        ,\n",
       "       0.        , 0.        , 0.        , 0.        , 0.        ,\n",
       "       0.        , 0.        , 0.        , 0.        , 0.        ,\n",
       "       0.        , 0.        , 0.        , 0.        , 0.        ,\n",
       "       0.        , 0.        , 0.        , 0.        , 0.        ,\n",
       "       0.        , 0.        , 0.        , 0.        , 0.        ,\n",
       "       0.        , 0.        , 0.        , 0.        , 0.        ,\n",
       "       0.        , 0.        , 0.        , 0.        , 0.        ,\n",
       "       0.        , 0.        , 0.        , 0.        , 0.        ,\n",
       "       0.        , 0.        , 0.        , 0.        , 0.        ,\n",
       "       0.        , 0.        , 0.        , 0.        , 0.        ,\n",
       "       0.        , 0.        , 0.        , 0.        , 0.        ,\n",
       "       0.        , 0.        , 0.        , 0.        , 0.        ,\n",
       "       0.        , 0.        , 0.        , 0.        , 0.        ,\n",
       "       0.        , 0.        , 0.        , 0.        , 0.        ,\n",
       "       0.        , 0.        , 0.        , 0.        , 0.        ,\n",
       "       0.        , 0.        , 0.        , 0.        , 0.        ,\n",
       "       0.        , 0.        , 0.        , 0.        , 0.        ,\n",
       "       0.        , 0.        , 0.        , 0.        , 0.        ,\n",
       "       0.        , 0.        , 0.        , 0.        , 0.        ,\n",
       "       0.        , 0.        , 0.        , 0.        , 0.        ,\n",
       "       0.        , 0.        , 0.        , 0.        , 0.        ,\n",
       "       0.        , 0.        , 0.        , 0.        , 0.        ,\n",
       "       0.        , 0.        , 0.        , 0.        , 0.        ,\n",
       "       0.        , 0.        , 0.        , 0.        , 0.        ,\n",
       "       0.20784314, 0.28627451, 0.69019608, 0.99215686, 0.99215686,\n",
       "       0.99215686, 0.28627451, 0.12156863, 0.        , 0.        ,\n",
       "       0.        , 0.        , 0.        , 0.        , 0.        ,\n",
       "       0.        , 0.        , 0.        , 0.        , 0.        ,\n",
       "       0.        , 0.        , 0.        , 0.        , 0.        ,\n",
       "       0.        , 0.        , 0.24705882, 0.86666667, 0.99215686,\n",
       "       0.98431373, 0.98431373, 0.98431373, 0.98431373, 0.99215686,\n",
       "       0.74117647, 0.07843137, 0.        , 0.        , 0.        ,\n",
       "       0.        , 0.        , 0.        , 0.        , 0.        ,\n",
       "       0.        , 0.        , 0.        , 0.        , 0.        ,\n",
       "       0.        , 0.        , 0.        , 0.        , 0.22745098,\n",
       "       0.90588235, 0.98431373, 0.99215686, 0.98431373, 0.98431373,\n",
       "       0.98431373, 0.98431373, 0.99215686, 0.98431373, 0.86666667,\n",
       "       0.48627451, 0.        , 0.        , 0.        , 0.        ,\n",
       "       0.        , 0.        , 0.        , 0.        , 0.        ,\n",
       "       0.        , 0.        , 0.        , 0.        , 0.        ,\n",
       "       0.        , 0.24705882, 0.90588235, 0.98431373, 0.98431373,\n",
       "       0.99215686, 0.98431373, 0.61568627, 0.55686275, 0.55686275,\n",
       "       0.99215686, 0.98431373, 0.98431373, 0.74117647, 0.12156863,\n",
       "       0.        , 0.        , 0.        , 0.        , 0.        ,\n",
       "       0.        , 0.        , 0.        , 0.        , 0.        ,\n",
       "       0.        , 0.        , 0.        , 0.20784314, 0.86666667,\n",
       "       0.98431373, 0.98431373, 0.98431373, 0.78823529, 0.27843137,\n",
       "       0.03921569, 0.        , 0.        , 0.48627451, 0.98431373,\n",
       "       0.98431373, 0.98431373, 0.27843137, 0.        , 0.        ,\n",
       "       0.        , 0.        , 0.        , 0.        , 0.        ,\n",
       "       0.        , 0.        , 0.        , 0.        , 0.1254902 ,\n",
       "       0.28627451, 1.        , 0.99215686, 0.99215686, 0.99215686,\n",
       "       0.78823529, 0.        , 0.        , 0.        , 0.        ,\n",
       "       0.        , 0.        , 0.56862745, 0.99215686, 0.99215686,\n",
       "       0.99215686, 0.        , 0.        , 0.        , 0.        ,\n",
       "       0.        , 0.        , 0.        , 0.        , 0.        ,\n",
       "       0.        , 0.        , 0.42745098, 0.98431373, 0.99215686,\n",
       "       0.98431373, 0.98431373, 0.7372549 , 0.11764706, 0.        ,\n",
       "       0.        , 0.        , 0.        , 0.        , 0.        ,\n",
       "       0.56470588, 0.98431373, 0.98431373, 0.98431373, 0.        ,\n",
       "       0.        , 0.        , 0.        , 0.        , 0.        ,\n",
       "       0.        , 0.        , 0.        , 0.        , 0.22745098,\n",
       "       0.90588235, 0.98431373, 0.99215686, 0.98431373, 0.76078431,\n",
       "       0.07843137, 0.        , 0.        , 0.        , 0.        ,\n",
       "       0.        , 0.        , 0.        , 0.56470588, 0.98431373,\n",
       "       0.98431373, 0.98431373, 0.        , 0.        , 0.        ,\n",
       "       0.        , 0.        , 0.        , 0.        , 0.        ,\n",
       "       0.        , 0.24705882, 0.90588235, 0.98431373, 0.98431373,\n",
       "       0.99215686, 0.98431373, 0.1372549 , 0.        , 0.        ,\n",
       "       0.        , 0.        , 0.        , 0.        , 0.        ,\n",
       "       0.        , 0.56470588, 0.98431373, 0.98431373, 0.98431373,\n",
       "       0.        , 0.        , 0.        , 0.        , 0.        ,\n",
       "       0.        , 0.        , 0.        , 0.        , 0.56470588,\n",
       "       0.98431373, 0.98431373, 0.98431373, 0.78823529, 0.27843137,\n",
       "       0.03921569, 0.        , 0.        , 0.        , 0.        ,\n",
       "       0.        , 0.        , 0.        , 0.20784314, 0.86666667,\n",
       "       0.98431373, 0.98431373, 0.47843137, 0.        , 0.        ,\n",
       "       0.        , 0.        , 0.        , 0.        , 0.        ,\n",
       "       0.        , 0.08235294, 0.69019608, 0.99215686, 0.99215686,\n",
       "       0.99215686, 0.50980392, 0.        , 0.        , 0.        ,\n",
       "       0.        , 0.        , 0.        , 0.        , 0.        ,\n",
       "       0.        , 0.49019608, 0.99215686, 0.99215686, 0.86666667,\n",
       "       0.2       , 0.        , 0.        , 0.        , 0.        ,\n",
       "       0.        , 0.        , 0.        , 0.        , 0.28627451,\n",
       "       0.98431373, 0.98431373, 0.98431373, 0.57647059, 0.        ,\n",
       "       0.        , 0.        , 0.        , 0.        , 0.        ,\n",
       "       0.        , 0.        , 0.        , 0.41176471, 0.99215686,\n",
       "       0.98431373, 0.98431373, 0.55686275, 0.        , 0.        ,\n",
       "       0.        , 0.        , 0.        , 0.        , 0.        ,\n",
       "       0.        , 0.        , 0.38823529, 0.98431373, 0.98431373,\n",
       "       0.92156863, 0.23921569, 0.        , 0.        , 0.        ,\n",
       "       0.        , 0.        , 0.        , 0.        , 0.02352941,\n",
       "       0.45098039, 0.94509804, 0.99215686, 0.98431373, 0.96470588,\n",
       "       0.48235294, 0.        , 0.        , 0.        , 0.        ,\n",
       "       0.        , 0.        , 0.        , 0.        , 0.        ,\n",
       "       0.99215686, 0.98431373, 0.98431373, 0.55686275, 0.        ,\n",
       "       0.        , 0.        , 0.        , 0.        , 0.        ,\n",
       "       0.        , 0.        , 0.45098039, 0.98431373, 0.98431373,\n",
       "       0.99215686, 0.98431373, 0.5372549 , 0.        , 0.        ,\n",
       "       0.        , 0.        , 0.        , 0.        , 0.        ,\n",
       "       0.        , 0.        , 0.        , 0.99215686, 0.98431373,\n",
       "       0.98431373, 0.55686275, 0.        , 0.        , 0.        ,\n",
       "       0.        , 0.        , 0.        , 0.71372549, 0.70588235,\n",
       "       0.94509804, 0.98431373, 0.98431373, 0.99215686, 0.57647059,\n",
       "       0.03921569, 0.        , 0.        , 0.        , 0.        ,\n",
       "       0.        , 0.        , 0.        , 0.        , 0.        ,\n",
       "       0.        , 0.28627451, 0.99215686, 0.99215686, 0.68627451,\n",
       "       0.28627451, 0.        , 0.        , 0.04313725, 0.28627451,\n",
       "       0.79215686, 1.        , 0.99215686, 0.99215686, 0.99215686,\n",
       "       0.99215686, 0.50980392, 0.        , 0.        , 0.        ,\n",
       "       0.        , 0.        , 0.        , 0.        , 0.        ,\n",
       "       0.        , 0.        , 0.        , 0.        , 0.28627451,\n",
       "       0.98431373, 0.98431373, 0.98431373, 0.98431373, 0.56862745,\n",
       "       0.56470588, 0.62745098, 0.98431373, 0.98431373, 0.99215686,\n",
       "       0.98431373, 0.98431373, 0.98431373, 0.57647059, 0.        ,\n",
       "       0.        , 0.        , 0.        , 0.        , 0.        ,\n",
       "       0.        , 0.        , 0.        , 0.        , 0.        ,\n",
       "       0.        , 0.        , 0.03921569, 0.62352941, 0.98431373,\n",
       "       0.98431373, 0.98431373, 0.99215686, 0.98431373, 0.98431373,\n",
       "       0.98431373, 0.98431373, 0.99215686, 0.98431373, 0.8627451 ,\n",
       "       0.5372549 , 0.03921569, 0.        , 0.        , 0.        ,\n",
       "       0.        , 0.        , 0.        , 0.        , 0.        ,\n",
       "       0.        , 0.        , 0.        , 0.        , 0.        ,\n",
       "       0.        , 0.3254902 , 0.9254902 , 0.98431373, 0.98431373,\n",
       "       0.99215686, 0.98431373, 0.98431373, 0.98431373, 0.98431373,\n",
       "       0.56078431, 0.55686275, 0.07843137, 0.        , 0.        ,\n",
       "       0.        , 0.        , 0.        , 0.        , 0.        ,\n",
       "       0.        , 0.        , 0.        , 0.        , 0.        ,\n",
       "       0.        , 0.        , 0.        , 0.        , 0.        ,\n",
       "       0.23921569, 0.58039216, 0.98431373, 0.99215686, 0.98431373,\n",
       "       0.98431373, 0.67843137, 0.27843137, 0.        , 0.        ,\n",
       "       0.        , 0.        , 0.        , 0.        , 0.        ,\n",
       "       0.        , 0.        , 0.        , 0.        , 0.        ,\n",
       "       0.        , 0.        , 0.        , 0.        , 0.        ,\n",
       "       0.        , 0.        , 0.        , 0.        , 0.        ,\n",
       "       0.        , 0.        , 0.        , 0.        , 0.        ,\n",
       "       0.        , 0.        , 0.        , 0.        , 0.        ,\n",
       "       0.        , 0.        , 0.        , 0.        , 0.        ,\n",
       "       0.        , 0.        , 0.        , 0.        , 0.        ,\n",
       "       0.        , 0.        , 0.        , 0.        , 0.        ,\n",
       "       0.        , 0.        , 0.        , 0.        , 0.        ,\n",
       "       0.        , 0.        , 0.        , 0.        , 0.        ,\n",
       "       0.        , 0.        , 0.        , 0.        , 0.        ,\n",
       "       0.        , 0.        , 0.        , 0.        , 0.        ,\n",
       "       0.        , 0.        , 0.        , 0.        , 0.        ,\n",
       "       0.        , 0.        , 0.        , 0.        , 0.        ,\n",
       "       0.        , 0.        , 0.        , 0.        , 0.        ,\n",
       "       0.        , 0.        , 0.        , 0.        , 0.        ,\n",
       "       0.        , 0.        , 0.        , 0.        , 0.        ,\n",
       "       0.        , 0.        , 0.        , 0.        , 0.        ,\n",
       "       0.        , 0.        , 0.        , 0.        , 0.        ,\n",
       "       0.        , 0.        , 0.        , 0.        , 0.        ,\n",
       "       0.        , 0.        , 0.        , 0.        , 0.        ,\n",
       "       0.        , 0.        , 0.        , 0.        , 0.        ,\n",
       "       0.        , 0.        , 0.        , 0.        , 0.        ,\n",
       "       0.        , 0.        , 0.        , 0.        ])"
      ]
     },
     "execution_count": 22,
     "metadata": {},
     "output_type": "execute_result"
    }
   ],
   "source": [
    "X_train[2]"
   ]
  },
  {
   "cell_type": "code",
   "execution_count": 23,
   "id": "7967d9bf",
   "metadata": {
    "execution": {
     "iopub.execute_input": "2023-06-14T21:45:20.260224Z",
     "iopub.status.busy": "2023-06-14T21:45:20.259753Z",
     "iopub.status.idle": "2023-06-14T21:45:21.350266Z",
     "shell.execute_reply": "2023-06-14T21:45:21.349008Z"
    },
    "papermill": {
     "duration": 1.106532,
     "end_time": "2023-06-14T21:45:21.352464",
     "exception": false,
     "start_time": "2023-06-14T21:45:20.245932",
     "status": "completed"
    },
    "tags": []
   },
   "outputs": [
    {
     "data": {
      "image/png": "[encoded data removed]",
      "text/plain": [
       "<Figure size 640x480 with 1 Axes>"
      ]
     },
     "metadata": {},
     "output_type": "display_data"
    },
    {
     "data": {
      "image/png": "[encoded data removed]",
      "text/plain": [
       "<Figure size 640x480 with 1 Axes>"
      ]
     },
     "metadata": {},
     "output_type": "display_data"
    },
    {
     "data": {
      "image/png": "[encoded data removed]",
      "text/plain": [
       "<Figure size 640x480 with 1 Axes>"
      ]
     },
     "metadata": {},
     "output_type": "display_data"
    },
    {
     "data": {
      "image/png": "[encoded data removed]",
      "text/plain": [
       "<Figure size 640x480 with 1 Axes>"
      ]
     },
     "metadata": {},
     "output_type": "display_data"
    },
    {
     "data": {
      "image/png": "[encoded data removed]",
      "text/plain": [
       "<Figure size 640x480 with 1 Axes>"
      ]
     },
     "metadata": {},
     "output_type": "display_data"
    }
   ],
   "source": [
    "import matplotlib.pyplot as plt\n",
    "for i in range(5):\n",
    "    plt.imshow(X[i].reshape((28,28)), cmap=\"gray\")\n",
    "    plt.show()"
   ]
  },
  {
   "cell_type": "code",
   "execution_count": 24,
   "id": "ad3331ea",
   "metadata": {
    "execution": {
     "iopub.execute_input": "2023-06-14T21:45:21.384112Z",
     "iopub.status.busy": "2023-06-14T21:45:21.383643Z",
     "iopub.status.idle": "2023-06-14T21:45:21.409832Z",
     "shell.execute_reply": "2023-06-14T21:45:21.408685Z"
    },
    "papermill": {
     "duration": 0.046902,
     "end_time": "2023-06-14T21:45:21.412407",
     "exception": false,
     "start_time": "2023-06-14T21:45:21.365505",
     "status": "completed"
    },
    "tags": []
   },
   "outputs": [],
   "source": [
    "from sklearn.neural_network import MLPClassifier\n",
    "\n",
    "mlp = MLPClassifier(hidden_layer_sizes=1, activation = \"logistic\")\n",
    "mlp1 = MLPClassifier(hidden_layer_sizes=100, activation = \"logistic\")\n",
    "mlp2 = MLPClassifier(hidden_layer_sizes=1000, activation = \"logistic\")"
   ]
  },
  {
   "cell_type": "code",
   "execution_count": 25,
   "id": "596e30b6",
   "metadata": {
    "execution": {
     "iopub.execute_input": "2023-06-14T21:45:21.443212Z",
     "iopub.status.busy": "2023-06-14T21:45:21.441907Z",
     "iopub.status.idle": "2023-06-14T22:01:44.712826Z",
     "shell.execute_reply": "2023-06-14T22:01:44.711561Z"
    },
    "papermill": {
     "duration": 983.311064,
     "end_time": "2023-06-14T22:01:44.737914",
     "exception": false,
     "start_time": "2023-06-14T21:45:21.426850",
     "status": "completed"
    },
    "tags": []
   },
   "outputs": [
    {
     "name": "stderr",
     "output_type": "stream",
     "text": [
      "/opt/conda/lib/python3.10/site-packages/sklearn/neural_network/_multilayer_perceptron.py:686: ConvergenceWarning: Stochastic Optimizer: Maximum iterations (200) reached and the optimization hasn't converged yet.\n",
      "  warnings.warn(\n"
     ]
    },
    {
     "data": {
      "text/html": [
       "<style>#sk-container-id-3 {color: black;background-color: white;}#sk-container-id-3 pre{padding: 0;}#sk-container-id-3 div.sk-toggleable {background-color: white;}#sk-container-id-3 label.sk-toggleable__label {cursor: pointer;display: block;width: 100%;margin-bottom: 0;padding: 0.3em;box-sizing: border-box;text-align: center;}#sk-container-id-3 label.sk-toggleable__label-arrow:before {content: \"▸\";float: left;margin-right: 0.25em;color: #696969;}#sk-container-id-3 label.sk-toggleable__label-arrow:hover:before {color: black;}#sk-container-id-3 div.sk-estimator:hover label.sk-toggleable__label-arrow:before {color: black;}#sk-container-id-3 div.sk-toggleable__content {max-height: 0;max-width: 0;overflow: hidden;text-align: left;background-color: #f0f8ff;}#sk-container-id-3 div.sk-toggleable__content pre {margin: 0.2em;color: black;border-radius: 0.25em;background-color: #f0f8ff;}#sk-container-id-3 input.sk-toggleable__control:checked~div.sk-toggleable__content {max-height: 200px;max-width: 100%;overflow: auto;}#sk-container-id-3 input.sk-toggleable__control:checked~label.sk-toggleable__label-arrow:before {content: \"▾\";}#sk-container-id-3 div.sk-estimator input.sk-toggleable__control:checked~label.sk-toggleable__label {background-color: #d4ebff;}#sk-container-id-3 div.sk-label input.sk-toggleable__control:checked~label.sk-toggleable__label {background-color: #d4ebff;}#sk-container-id-3 input.sk-hidden--visually {border: 0;clip: rect(1px 1px 1px 1px);clip: rect(1px, 1px, 1px, 1px);height: 1px;margin: -1px;overflow: hidden;padding: 0;position: absolute;width: 1px;}#sk-container-id-3 div.sk-estimator {font-family: monospace;background-color: #f0f8ff;border: 1px dotted black;border-radius: 0.25em;box-sizing: border-box;margin-bottom: 0.5em;}#sk-container-id-3 div.sk-estimator:hover {background-color: #d4ebff;}#sk-container-id-3 div.sk-parallel-item::after {content: \"\";width: 100%;border-bottom: 1px solid gray;flex-grow: 1;}#sk-container-id-3 div.sk-label:hover label.sk-toggleable__label {background-color: #d4ebff;}#sk-container-id-3 div.sk-serial::before {content: \"\";position: absolute;border-left: 1px solid gray;box-sizing: border-box;top: 0;bottom: 0;left: 50%;z-index: 0;}#sk-container-id-3 div.sk-serial {display: flex;flex-direction: column;align-items: center;background-color: white;padding-right: 0.2em;padding-left: 0.2em;position: relative;}#sk-container-id-3 div.sk-item {position: relative;z-index: 1;}#sk-container-id-3 div.sk-parallel {display: flex;align-items: stretch;justify-content: center;background-color: white;position: relative;}#sk-container-id-3 div.sk-item::before, #sk-container-id-3 div.sk-parallel-item::before {content: \"\";position: absolute;border-left: 1px solid gray;box-sizing: border-box;top: 0;bottom: 0;left: 50%;z-index: -1;}#sk-container-id-3 div.sk-parallel-item {display: flex;flex-direction: column;z-index: 1;position: relative;background-color: white;}#sk-container-id-3 div.sk-parallel-item:first-child::after {align-self: flex-end;width: 50%;}#sk-container-id-3 div.sk-parallel-item:last-child::after {align-self: flex-start;width: 50%;}#sk-container-id-3 div.sk-parallel-item:only-child::after {width: 0;}#sk-container-id-3 div.sk-dashed-wrapped {border: 1px dashed gray;margin: 0 0.4em 0.5em 0.4em;box-sizing: border-box;padding-bottom: 0.4em;background-color: white;}#sk-container-id-3 div.sk-label label {font-family: monospace;font-weight: bold;display: inline-block;line-height: 1.2em;}#sk-container-id-3 div.sk-label-container {text-align: center;}#sk-container-id-3 div.sk-container {/* jupyter's `normalize.less` sets `[hidden] { display: none; }` but bootstrap.min.css set `[hidden] { display: none !important; }` so we also need the `!important` here to be able to override the default hidden behavior on the sphinx rendered scikit-learn.org. See: https://github.com/scikit-learn/scikit-learn/issues/21755 */display: inline-block !important;position: relative;}#sk-container-id-3 div.sk-text-repr-fallback {display: none;}</style><div id=\"sk-container-id-3\" class=\"sk-top-container\"><div class=\"sk-text-repr-fallback\"><pre>MLPClassifier(activation=&#x27;logistic&#x27;, hidden_layer_sizes=1000)</pre><b>In a Jupyter environment, please rerun this cell to show the HTML representation or trust the notebook. <br />On GitHub, the HTML representation is unable to render, please try loading this page with nbviewer.org.</b></div><div class=\"sk-container\" hidden><div class=\"sk-item\"><div class=\"sk-estimator sk-toggleable\"><input class=\"sk-toggleable__control sk-hidden--visually\" id=\"sk-estimator-id-3\" type=\"checkbox\" checked><label for=\"sk-estimator-id-3\" class=\"sk-toggleable__label sk-toggleable__label-arrow\">MLPClassifier</label><div class=\"sk-toggleable__content\"><pre>MLPClassifier(activation=&#x27;logistic&#x27;, hidden_layer_sizes=1000)</pre></div></div></div></div></div>"
      ],
      "text/plain": [
       "MLPClassifier(activation='logistic', hidden_layer_sizes=1000)"
      ]
     },
     "execution_count": 25,
     "metadata": {},
     "output_type": "execute_result"
    }
   ],
   "source": [
    "mlp.fit(X_train, y_train)\n",
    "mlp1.fit(X_train, y_train)\n",
    "mlp2.fit(X_train, y_train)"
   ]
  },
  {
   "cell_type": "code",
   "execution_count": 26,
   "id": "b4d816a2",
   "metadata": {
    "execution": {
     "iopub.execute_input": "2023-06-14T22:01:44.784353Z",
     "iopub.status.busy": "2023-06-14T22:01:44.783854Z",
     "iopub.status.idle": "2023-06-14T22:01:44.833352Z",
     "shell.execute_reply": "2023-06-14T22:01:44.832134Z"
    },
    "papermill": {
     "duration": 0.076677,
     "end_time": "2023-06-14T22:01:44.836304",
     "exception": false,
     "start_time": "2023-06-14T22:01:44.759627",
     "status": "completed"
    },
    "tags": []
   },
   "outputs": [
    {
     "data": {
      "text/plain": [
       "array(['6', '1', '1', ..., '7', '6', '1'], dtype='<U1')"
      ]
     },
     "execution_count": 26,
     "metadata": {},
     "output_type": "execute_result"
    }
   ],
   "source": [
    "predictions_NN = mlp.predict(X_test)\n",
    "predictions_NN"
   ]
  },
  {
   "cell_type": "code",
   "execution_count": 27,
   "id": "a628ac29",
   "metadata": {
    "execution": {
     "iopub.execute_input": "2023-06-14T22:01:44.884233Z",
     "iopub.status.busy": "2023-06-14T22:01:44.882530Z",
     "iopub.status.idle": "2023-06-14T22:01:45.102112Z",
     "shell.execute_reply": "2023-06-14T22:01:45.100872Z"
    },
    "papermill": {
     "duration": 0.247623,
     "end_time": "2023-06-14T22:01:45.106058",
     "exception": false,
     "start_time": "2023-06-14T22:01:44.858435",
     "status": "completed"
    },
    "tags": []
   },
   "outputs": [
    {
     "data": {
      "text/plain": [
       "array(['0', '4', '1', ..., '9', '0', '1'], dtype='<U1')"
      ]
     },
     "execution_count": 27,
     "metadata": {},
     "output_type": "execute_result"
    }
   ],
   "source": [
    "predictions_NN1 = mlp1.predict(X_test)\n",
    "predictions_NN1"
   ]
  },
  {
   "cell_type": "code",
   "execution_count": 28,
   "id": "eb6ae04f",
   "metadata": {
    "execution": {
     "iopub.execute_input": "2023-06-14T22:01:45.155781Z",
     "iopub.status.busy": "2023-06-14T22:01:45.155147Z",
     "iopub.status.idle": "2023-06-14T22:01:46.069110Z",
     "shell.execute_reply": "2023-06-14T22:01:46.067858Z"
    },
    "papermill": {
     "duration": 0.943002,
     "end_time": "2023-06-14T22:01:46.073025",
     "exception": false,
     "start_time": "2023-06-14T22:01:45.130023",
     "status": "completed"
    },
    "tags": []
   },
   "outputs": [
    {
     "data": {
      "text/plain": [
       "array(['0', '4', '1', ..., '9', '0', '1'], dtype='<U1')"
      ]
     },
     "execution_count": 28,
     "metadata": {},
     "output_type": "execute_result"
    }
   ],
   "source": [
    "predictions_NN2 = mlp2.predict(X_test)\n",
    "predictions_NN2"
   ]
  },
  {
   "cell_type": "code",
   "execution_count": 29,
   "id": "d8ee8e30",
   "metadata": {
    "execution": {
     "iopub.execute_input": "2023-06-14T22:01:46.127901Z",
     "iopub.status.busy": "2023-06-14T22:01:46.127248Z",
     "iopub.status.idle": "2023-06-14T22:01:46.364651Z",
     "shell.execute_reply": "2023-06-14T22:01:46.363092Z"
    },
    "papermill": {
     "duration": 0.265965,
     "end_time": "2023-06-14T22:01:46.367137",
     "exception": false,
     "start_time": "2023-06-14T22:01:46.101172",
     "status": "completed"
    },
    "tags": []
   },
   "outputs": [
    {
     "name": "stdout",
     "output_type": "stream",
     "text": [
      "Actual Value: 0\n",
      "Predicted Value: 0\n"
     ]
    },
    {
     "data": {
      "image/png": "[encoded data removed]",
      "text/plain": [
       "<Figure size 640x480 with 1 Axes>"
      ]
     },
     "metadata": {},
     "output_type": "display_data"
    }
   ],
   "source": [
    "print(f\"Actual Value: {y_test[0]}\")\n",
    "print(f\"Predicted Value: {predictions_NN2[0]}\")\n",
    "\n",
    "\n",
    "plt.imshow(X_test[0].reshape((28, 28)), cmap='gray')\n",
    "plt.show()"
   ]
  },
  {
   "cell_type": "code",
   "execution_count": 30,
   "id": "c915b40b",
   "metadata": {
    "execution": {
     "iopub.execute_input": "2023-06-14T22:01:46.400438Z",
     "iopub.status.busy": "2023-06-14T22:01:46.399132Z",
     "iopub.status.idle": "2023-06-14T22:01:46.614390Z",
     "shell.execute_reply": "2023-06-14T22:01:46.613044Z"
    },
    "papermill": {
     "duration": 0.235056,
     "end_time": "2023-06-14T22:01:46.617369",
     "exception": false,
     "start_time": "2023-06-14T22:01:46.382313",
     "status": "completed"
    },
    "tags": []
   },
   "outputs": [
    {
     "name": "stdout",
     "output_type": "stream",
     "text": [
      "Actual Value: 4\n",
      "Predicted Value For 1 Hidden Layer: 1\n",
      "Predicted Value For 100 Hidden Layer: 4\n",
      "Predicted Value For 1000 Hidden Layer: 4\n"
     ]
    },
    {
     "data": {
      "image/png": "[encoded data removed]",
      "text/plain": [
       "<Figure size 640x480 with 1 Axes>"
      ]
     },
     "metadata": {},
     "output_type": "display_data"
    }
   ],
   "source": [
    "print(f\"Actual Value: {y_test[1]}\")\n",
    "print(f\"Predicted Value For 1 Hidden Layer: {predictions_NN[1]}\")\n",
    "print(f\"Predicted Value For 100 Hidden Layer: {predictions_NN1[1]}\")\n",
    "print(f\"Predicted Value For 1000 Hidden Layer: {predictions_NN2[1]}\")\n",
    "\n",
    "\n",
    "plt.imshow(X_test[1].reshape((28, 28)), cmap='gray')\n",
    "plt.show()"
   ]
  },
  {
   "cell_type": "code",
   "execution_count": 31,
   "id": "13ac0b35",
   "metadata": {
    "execution": {
     "iopub.execute_input": "2023-06-14T22:01:46.649143Z",
     "iopub.status.busy": "2023-06-14T22:01:46.648752Z",
     "iopub.status.idle": "2023-06-14T22:01:46.710840Z",
     "shell.execute_reply": "2023-06-14T22:01:46.709370Z"
    },
    "papermill": {
     "duration": 0.081263,
     "end_time": "2023-06-14T22:01:46.713810",
     "exception": false,
     "start_time": "2023-06-14T22:01:46.632547",
     "status": "completed"
    },
    "tags": []
   },
   "outputs": [
    {
     "data": {
      "text/plain": [
       "array([[ 608,    4,  311,   36,    0,    4, 1114,    0,    0,    0],\n",
       "       [   2, 1950,   24,  141,  215,    1,    9,    0,    0,   43],\n",
       "       [ 405,   98,  665,  411,   10,   42,  470,    7,    0,    7],\n",
       "       [  79,  398,  423, 1003,   40,   52,   45,   30,    0,   47],\n",
       "       [  13,  707,   45,  150,  415,    5,    6,   98,    0,  565],\n",
       "       [ 148,  111,  836,  643,   14,   70,   51,   23,    0,    4],\n",
       "       [ 268,    7,  143,   27,    1,    1, 1597,    0,    0,    1],\n",
       "       [   1,  111,   10,   28,  115,    0,    0, 1574,    0,  350],\n",
       "       [  43,  392,  400, 1081,   28,   72,    3,   10,    0,   13],\n",
       "       [   2,  187,   16,   59,  190,    1,    2, 1007,    0,  662]])"
      ]
     },
     "execution_count": 31,
     "metadata": {},
     "output_type": "execute_result"
    }
   ],
   "source": [
    "from sklearn.metrics import confusion_matrix\n",
    "\n",
    "confusion_matrix(y_test, predictions_NN)"
   ]
  },
  {
   "cell_type": "code",
   "execution_count": 32,
   "id": "1355987a",
   "metadata": {
    "execution": {
     "iopub.execute_input": "2023-06-14T22:01:46.747356Z",
     "iopub.status.busy": "2023-06-14T22:01:46.746160Z",
     "iopub.status.idle": "2023-06-14T22:01:47.152776Z",
     "shell.execute_reply": "2023-06-14T22:01:47.151534Z"
    },
    "papermill": {
     "duration": 0.426251,
     "end_time": "2023-06-14T22:01:47.154957",
     "exception": false,
     "start_time": "2023-06-14T22:01:46.728706",
     "status": "completed"
    },
    "tags": []
   },
   "outputs": [
    {
     "name": "stderr",
     "output_type": "stream",
     "text": [
      "/opt/conda/lib/python3.10/site-packages/sklearn/metrics/_classification.py:1344: UndefinedMetricWarning: Precision and F-score are ill-defined and being set to 0.0 in labels with no predicted samples. Use `zero_division` parameter to control this behavior.\n",
      "  _warn_prf(average, modifier, msg_start, len(result))\n",
      "/opt/conda/lib/python3.10/site-packages/sklearn/metrics/_classification.py:1344: UndefinedMetricWarning: Precision and F-score are ill-defined and being set to 0.0 in labels with no predicted samples. Use `zero_division` parameter to control this behavior.\n",
      "  _warn_prf(average, modifier, msg_start, len(result))\n"
     ]
    },
    {
     "name": "stdout",
     "output_type": "stream",
     "text": [
      "              precision    recall  f1-score   support\n",
      "\n",
      "           0       0.39      0.29      0.33      2077\n",
      "           1       0.49      0.82      0.61      2385\n",
      "           2       0.23      0.31      0.27      2115\n",
      "           3       0.28      0.47      0.35      2117\n",
      "           4       0.40      0.21      0.27      2004\n",
      "           5       0.28      0.04      0.07      1900\n",
      "           6       0.48      0.78      0.60      2045\n",
      "           7       0.57      0.72      0.64      2189\n",
      "           8       0.00      0.00      0.00      2042\n",
      "           9       0.39      0.31      0.35      2126\n",
      "\n",
      "    accuracy                           0.41     21000\n",
      "   macro avg       0.35      0.40      0.35     21000\n",
      "weighted avg       0.36      0.41      0.36     21000\n",
      "\n"
     ]
    },
    {
     "name": "stderr",
     "output_type": "stream",
     "text": [
      "/opt/conda/lib/python3.10/site-packages/sklearn/metrics/_classification.py:1344: UndefinedMetricWarning: Precision and F-score are ill-defined and being set to 0.0 in labels with no predicted samples. Use `zero_division` parameter to control this behavior.\n",
      "  _warn_prf(average, modifier, msg_start, len(result))\n"
     ]
    }
   ],
   "source": [
    "from sklearn.metrics import classification_report\n",
    "\n",
    "print(classification_report(y_test,predictions_NN))"
   ]
  },
  {
   "cell_type": "code",
   "execution_count": 33,
   "id": "13a3b2dc",
   "metadata": {
    "execution": {
     "iopub.execute_input": "2023-06-14T22:01:47.186529Z",
     "iopub.status.busy": "2023-06-14T22:01:47.186001Z",
     "iopub.status.idle": "2023-06-14T22:01:47.245605Z",
     "shell.execute_reply": "2023-06-14T22:01:47.244459Z"
    },
    "papermill": {
     "duration": 0.078842,
     "end_time": "2023-06-14T22:01:47.248243",
     "exception": false,
     "start_time": "2023-06-14T22:01:47.169401",
     "status": "completed"
    },
    "tags": []
   },
   "outputs": [
    {
     "data": {
      "text/plain": [
       "array([[2052,    0,    2,    2,    3,    4,    8,    0,    4,    2],\n",
       "       [   0, 2360,    7,    6,    3,    0,    1,    5,    2,    1],\n",
       "       [   4,    4, 2062,    7,    9,    2,    4,    9,   12,    2],\n",
       "       [   2,    4,   19, 2042,    1,   23,    1,    8,   11,    6],\n",
       "       [   2,    3,    6,    1, 1955,    1,    9,    5,    2,   20],\n",
       "       [   5,    2,    2,   10,    6, 1848,   14,    4,    6,    3],\n",
       "       [   4,    2,    3,    1,    8,    9, 2012,    2,    4,    0],\n",
       "       [   2,    8,   15,    6,    7,    2,    0, 2128,    3,   18],\n",
       "       [   5,   16,    6,   17,    6,    7,    7,    0, 1962,   16],\n",
       "       [   6,    3,    5,   13,   35,   11,    1,   13,    7, 2032]])"
      ]
     },
     "execution_count": 33,
     "metadata": {},
     "output_type": "execute_result"
    }
   ],
   "source": [
    "confusion_matrix(y_test, predictions_NN1)"
   ]
  },
  {
   "cell_type": "code",
   "execution_count": 34,
   "id": "14999a30",
   "metadata": {
    "execution": {
     "iopub.execute_input": "2023-06-14T22:01:47.281599Z",
     "iopub.status.busy": "2023-06-14T22:01:47.280908Z",
     "iopub.status.idle": "2023-06-14T22:01:47.673539Z",
     "shell.execute_reply": "2023-06-14T22:01:47.671870Z"
    },
    "papermill": {
     "duration": 0.412047,
     "end_time": "2023-06-14T22:01:47.676307",
     "exception": false,
     "start_time": "2023-06-14T22:01:47.264260",
     "status": "completed"
    },
    "tags": []
   },
   "outputs": [
    {
     "name": "stdout",
     "output_type": "stream",
     "text": [
      "              precision    recall  f1-score   support\n",
      "\n",
      "           0       0.99      0.99      0.99      2077\n",
      "           1       0.98      0.99      0.99      2385\n",
      "           2       0.97      0.97      0.97      2115\n",
      "           3       0.97      0.96      0.97      2117\n",
      "           4       0.96      0.98      0.97      2004\n",
      "           5       0.97      0.97      0.97      1900\n",
      "           6       0.98      0.98      0.98      2045\n",
      "           7       0.98      0.97      0.98      2189\n",
      "           8       0.97      0.96      0.97      2042\n",
      "           9       0.97      0.96      0.96      2126\n",
      "\n",
      "    accuracy                           0.97     21000\n",
      "   macro avg       0.97      0.97      0.97     21000\n",
      "weighted avg       0.97      0.97      0.97     21000\n",
      "\n"
     ]
    }
   ],
   "source": [
    "print(classification_report(y_test,predictions_NN1))"
   ]
  },
  {
   "cell_type": "code",
   "execution_count": 35,
   "id": "4b9eb27d",
   "metadata": {
    "execution": {
     "iopub.execute_input": "2023-06-14T22:01:47.709465Z",
     "iopub.status.busy": "2023-06-14T22:01:47.708342Z",
     "iopub.status.idle": "2023-06-14T22:01:47.766948Z",
     "shell.execute_reply": "2023-06-14T22:01:47.765640Z"
    },
    "papermill": {
     "duration": 0.077941,
     "end_time": "2023-06-14T22:01:47.769524",
     "exception": false,
     "start_time": "2023-06-14T22:01:47.691583",
     "status": "completed"
    },
    "tags": []
   },
   "outputs": [
    {
     "data": {
      "text/plain": [
       "array([[2052,    0,    4,    1,    1,    8,    7,    1,    2,    1],\n",
       "       [   1, 2362,    7,    3,    2,    0,    2,    4,    1,    3],\n",
       "       [   2,    2, 2081,    2,    5,    2,    2,    7,   10,    2],\n",
       "       [   0,    2,   16, 2061,    0,   19,    0,    7,    9,    3],\n",
       "       [   1,    2,    3,    2, 1963,    0,    8,    6,    3,   16],\n",
       "       [   3,    0,    3,    7,    4, 1860,   11,    1,    6,    5],\n",
       "       [   3,    2,    2,    0,   10,    8, 2015,    2,    3,    0],\n",
       "       [   1,    4,    9,    3,    8,    5,    0, 2145,    3,   11],\n",
       "       [   3,   13,    7,    9,    4,    5,    6,    1, 1986,    8],\n",
       "       [   1,    0,    1,    6,   19,   10,    2,   12,    7, 2068]])"
      ]
     },
     "execution_count": 35,
     "metadata": {},
     "output_type": "execute_result"
    }
   ],
   "source": [
    "confusion_matrix(y_test, predictions_NN2)"
   ]
  },
  {
   "cell_type": "code",
   "execution_count": 36,
   "id": "31f343c3",
   "metadata": {
    "execution": {
     "iopub.execute_input": "2023-06-14T22:01:47.802706Z",
     "iopub.status.busy": "2023-06-14T22:01:47.802332Z",
     "iopub.status.idle": "2023-06-14T22:01:48.200364Z",
     "shell.execute_reply": "2023-06-14T22:01:48.198657Z"
    },
    "papermill": {
     "duration": 0.417938,
     "end_time": "2023-06-14T22:01:48.202800",
     "exception": false,
     "start_time": "2023-06-14T22:01:47.784862",
     "status": "completed"
    },
    "tags": []
   },
   "outputs": [
    {
     "name": "stdout",
     "output_type": "stream",
     "text": [
      "              precision    recall  f1-score   support\n",
      "\n",
      "           0       0.99      0.99      0.99      2077\n",
      "           1       0.99      0.99      0.99      2385\n",
      "           2       0.98      0.98      0.98      2115\n",
      "           3       0.98      0.97      0.98      2117\n",
      "           4       0.97      0.98      0.98      2004\n",
      "           5       0.97      0.98      0.97      1900\n",
      "           6       0.98      0.99      0.98      2045\n",
      "           7       0.98      0.98      0.98      2189\n",
      "           8       0.98      0.97      0.98      2042\n",
      "           9       0.98      0.97      0.97      2126\n",
      "\n",
      "    accuracy                           0.98     21000\n",
      "   macro avg       0.98      0.98      0.98     21000\n",
      "weighted avg       0.98      0.98      0.98     21000\n",
      "\n"
     ]
    }
   ],
   "source": [
    "print(classification_report(y_test,predictions_NN2))"
   ]
  }
 ],
 "metadata": {
  "kernelspec": {
   "display_name": "Python 3",
   "language": "python",
   "name": "python3"
  },
  "language_info": {
   "codemirror_mode": {
    "name": "ipython",
    "version": 3
   },
   "file_extension": ".py",
   "mimetype": "text/x-python",
   "name": "python",
   "nbconvert_exporter": "python",
   "pygments_lexer": "ipython3",
   "version": "3.10.10"
  },
  "papermill": {
   "default_parameters": {},
   "duration": 1041.322287,
   "end_time": "2023-06-14T22:01:50.573961",
   "environment_variables": {},
   "exception": null,
   "input_path": "__notebook__.ipynb",
   "output_path": "__notebook__.ipynb",
   "parameters": {},
   "start_time": "2023-06-14T21:44:29.251674",
   "version": "2.4.0"
  }
 },
 "nbformat": 4,
 "nbformat_minor": 5
}
