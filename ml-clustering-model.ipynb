{
 "cells": [
  {
   "cell_type": "markdown",
   "id": "26f97c4c",
   "metadata": {
    "papermill": {
     "duration": 0.006552,
     "end_time": "2023-06-02T20:52:38.596253",
     "exception": false,
     "start_time": "2023-06-02T20:52:38.589701",
     "status": "completed"
    },
    "tags": []
   },
   "source": [
    "# The most important unsupervised learning technique: Clustering Model\n",
    "# Let's build a clustering model with the live dataset."
   ]
  },
  {
   "cell_type": "markdown",
   "id": "c3c5f478",
   "metadata": {
    "papermill": {
     "duration": 0.005651,
     "end_time": "2023-06-02T20:52:38.607898",
     "exception": false,
     "start_time": "2023-06-02T20:52:38.602247",
     "status": "completed"
    },
    "tags": []
   },
   "source": [
    "**This dataset shows the number of comments, the number of shares and  variety of reactions  on a website.**"
   ]
  },
  {
   "cell_type": "code",
   "execution_count": 1,
   "id": "b8787097",
   "metadata": {
    "execution": {
     "iopub.execute_input": "2023-06-02T20:52:38.621618Z",
     "iopub.status.busy": "2023-06-02T20:52:38.621104Z",
     "iopub.status.idle": "2023-06-02T20:52:38.702587Z",
     "shell.execute_reply": "2023-06-02T20:52:38.701728Z"
    },
    "papermill": {
     "duration": 0.090787,
     "end_time": "2023-06-02T20:52:38.704585",
     "exception": false,
     "start_time": "2023-06-02T20:52:38.613798",
     "status": "completed"
    },
    "tags": []
   },
   "outputs": [
    {
     "data": {
      "text/html": [
       "<div>\n",
       "<style scoped>\n",
       "    .dataframe tbody tr th:only-of-type {\n",
       "        vertical-align: middle;\n",
       "    }\n",
       "\n",
       "    .dataframe tbody tr th {\n",
       "        vertical-align: top;\n",
       "    }\n",
       "\n",
       "    .dataframe thead th {\n",
       "        text-align: right;\n",
       "    }\n",
       "</style>\n",
       "<table border=\"1\" class=\"dataframe\">\n",
       "  <thead>\n",
       "    <tr style=\"text-align: right;\">\n",
       "      <th></th>\n",
       "      <th>num_reactions</th>\n",
       "      <th>num_comments</th>\n",
       "      <th>num_shares</th>\n",
       "      <th>num_likes</th>\n",
       "      <th>num_loves</th>\n",
       "      <th>num_wows</th>\n",
       "      <th>num_hahas</th>\n",
       "      <th>num_sads</th>\n",
       "      <th>num_angrys</th>\n",
       "      <th>status_type_link</th>\n",
       "      <th>status_type_photo</th>\n",
       "      <th>status_type_status</th>\n",
       "      <th>status_type_video</th>\n",
       "    </tr>\n",
       "  </thead>\n",
       "  <tbody>\n",
       "    <tr>\n",
       "      <th>0</th>\n",
       "      <td>0.112314</td>\n",
       "      <td>0.024393</td>\n",
       "      <td>0.076519</td>\n",
       "      <td>0.091720</td>\n",
       "      <td>0.140030</td>\n",
       "      <td>0.010791</td>\n",
       "      <td>0.006369</td>\n",
       "      <td>0.019608</td>\n",
       "      <td>0.0</td>\n",
       "      <td>0.0</td>\n",
       "      <td>0.0</td>\n",
       "      <td>0.0</td>\n",
       "      <td>1.0</td>\n",
       "    </tr>\n",
       "    <tr>\n",
       "      <th>1</th>\n",
       "      <td>0.031847</td>\n",
       "      <td>0.000000</td>\n",
       "      <td>0.000000</td>\n",
       "      <td>0.031847</td>\n",
       "      <td>0.000000</td>\n",
       "      <td>0.000000</td>\n",
       "      <td>0.000000</td>\n",
       "      <td>0.000000</td>\n",
       "      <td>0.0</td>\n",
       "      <td>0.0</td>\n",
       "      <td>1.0</td>\n",
       "      <td>0.0</td>\n",
       "      <td>0.0</td>\n",
       "    </tr>\n",
       "    <tr>\n",
       "      <th>2</th>\n",
       "      <td>0.048195</td>\n",
       "      <td>0.011243</td>\n",
       "      <td>0.016647</td>\n",
       "      <td>0.043312</td>\n",
       "      <td>0.031963</td>\n",
       "      <td>0.003597</td>\n",
       "      <td>0.006369</td>\n",
       "      <td>0.000000</td>\n",
       "      <td>0.0</td>\n",
       "      <td>0.0</td>\n",
       "      <td>0.0</td>\n",
       "      <td>0.0</td>\n",
       "      <td>1.0</td>\n",
       "    </tr>\n",
       "    <tr>\n",
       "      <th>3</th>\n",
       "      <td>0.023567</td>\n",
       "      <td>0.000000</td>\n",
       "      <td>0.000000</td>\n",
       "      <td>0.023567</td>\n",
       "      <td>0.000000</td>\n",
       "      <td>0.000000</td>\n",
       "      <td>0.000000</td>\n",
       "      <td>0.000000</td>\n",
       "      <td>0.0</td>\n",
       "      <td>0.0</td>\n",
       "      <td>1.0</td>\n",
       "      <td>0.0</td>\n",
       "      <td>0.0</td>\n",
       "    </tr>\n",
       "    <tr>\n",
       "      <th>4</th>\n",
       "      <td>0.045223</td>\n",
       "      <td>0.000000</td>\n",
       "      <td>0.000000</td>\n",
       "      <td>0.043312</td>\n",
       "      <td>0.013699</td>\n",
       "      <td>0.000000</td>\n",
       "      <td>0.000000</td>\n",
       "      <td>0.000000</td>\n",
       "      <td>0.0</td>\n",
       "      <td>0.0</td>\n",
       "      <td>1.0</td>\n",
       "      <td>0.0</td>\n",
       "      <td>0.0</td>\n",
       "    </tr>\n",
       "  </tbody>\n",
       "</table>\n",
       "</div>"
      ],
      "text/plain": [
       "   num_reactions  num_comments  num_shares  num_likes  num_loves  num_wows  \\\n",
       "0       0.112314      0.024393    0.076519   0.091720   0.140030  0.010791   \n",
       "1       0.031847      0.000000    0.000000   0.031847   0.000000  0.000000   \n",
       "2       0.048195      0.011243    0.016647   0.043312   0.031963  0.003597   \n",
       "3       0.023567      0.000000    0.000000   0.023567   0.000000  0.000000   \n",
       "4       0.045223      0.000000    0.000000   0.043312   0.013699  0.000000   \n",
       "\n",
       "   num_hahas  num_sads  num_angrys  status_type_link  status_type_photo  \\\n",
       "0   0.006369  0.019608         0.0               0.0                0.0   \n",
       "1   0.000000  0.000000         0.0               0.0                1.0   \n",
       "2   0.006369  0.000000         0.0               0.0                0.0   \n",
       "3   0.000000  0.000000         0.0               0.0                1.0   \n",
       "4   0.000000  0.000000         0.0               0.0                1.0   \n",
       "\n",
       "   status_type_status  status_type_video  \n",
       "0                 0.0                1.0  \n",
       "1                 0.0                0.0  \n",
       "2                 0.0                1.0  \n",
       "3                 0.0                0.0  \n",
       "4                 0.0                0.0  "
      ]
     },
     "execution_count": 1,
     "metadata": {},
     "output_type": "execute_result"
    }
   ],
   "source": [
    "import pandas as pd\n",
    "dataset = pd.read_csv('/kaggle/input/live-csv/Live (1).csv')\n",
    "dataset.head()"
   ]
  },
  {
   "cell_type": "markdown",
   "id": "e538005a",
   "metadata": {
    "papermill": {
     "duration": 0.008223,
     "end_time": "2023-06-02T20:52:38.720127",
     "exception": false,
     "start_time": "2023-06-02T20:52:38.711904",
     "status": "completed"
    },
    "tags": []
   },
   "source": [
    "**Let's randomly determine the clustering number as 3.**\n",
    "\n",
    "**After building the model, we will choose the appropriate clustering number.**"
   ]
  },
  {
   "cell_type": "code",
   "execution_count": 2,
   "id": "600608a1",
   "metadata": {
    "execution": {
     "iopub.execute_input": "2023-06-02T20:52:38.735895Z",
     "iopub.status.busy": "2023-06-02T20:52:38.735480Z",
     "iopub.status.idle": "2023-06-02T20:52:40.632380Z",
     "shell.execute_reply": "2023-06-02T20:52:40.631066Z"
    },
    "papermill": {
     "duration": 1.908144,
     "end_time": "2023-06-02T20:52:40.635197",
     "exception": false,
     "start_time": "2023-06-02T20:52:38.727053",
     "status": "completed"
    },
    "tags": []
   },
   "outputs": [],
   "source": [
    "from sklearn .cluster import KMeans\n",
    "model = KMeans(n_clusters = 3, n_init='auto')"
   ]
  },
  {
   "cell_type": "code",
   "execution_count": 3,
   "id": "19734695",
   "metadata": {
    "execution": {
     "iopub.execute_input": "2023-06-02T20:52:40.649768Z",
     "iopub.status.busy": "2023-06-02T20:52:40.649212Z",
     "iopub.status.idle": "2023-06-02T20:52:40.794089Z",
     "shell.execute_reply": "2023-06-02T20:52:40.793356Z"
    },
    "papermill": {
     "duration": 0.154366,
     "end_time": "2023-06-02T20:52:40.795883",
     "exception": false,
     "start_time": "2023-06-02T20:52:40.641517",
     "status": "completed"
    },
    "tags": []
   },
   "outputs": [
    {
     "data": {
      "text/html": [
       "<style>#sk-container-id-1 {color: black;background-color: white;}#sk-container-id-1 pre{padding: 0;}#sk-container-id-1 div.sk-toggleable {background-color: white;}#sk-container-id-1 label.sk-toggleable__label {cursor: pointer;display: block;width: 100%;margin-bottom: 0;padding: 0.3em;box-sizing: border-box;text-align: center;}#sk-container-id-1 label.sk-toggleable__label-arrow:before {content: \"▸\";float: left;margin-right: 0.25em;color: #696969;}#sk-container-id-1 label.sk-toggleable__label-arrow:hover:before {color: black;}#sk-container-id-1 div.sk-estimator:hover label.sk-toggleable__label-arrow:before {color: black;}#sk-container-id-1 div.sk-toggleable__content {max-height: 0;max-width: 0;overflow: hidden;text-align: left;background-color: #f0f8ff;}#sk-container-id-1 div.sk-toggleable__content pre {margin: 0.2em;color: black;border-radius: 0.25em;background-color: #f0f8ff;}#sk-container-id-1 input.sk-toggleable__control:checked~div.sk-toggleable__content {max-height: 200px;max-width: 100%;overflow: auto;}#sk-container-id-1 input.sk-toggleable__control:checked~label.sk-toggleable__label-arrow:before {content: \"▾\";}#sk-container-id-1 div.sk-estimator input.sk-toggleable__control:checked~label.sk-toggleable__label {background-color: #d4ebff;}#sk-container-id-1 div.sk-label input.sk-toggleable__control:checked~label.sk-toggleable__label {background-color: #d4ebff;}#sk-container-id-1 input.sk-hidden--visually {border: 0;clip: rect(1px 1px 1px 1px);clip: rect(1px, 1px, 1px, 1px);height: 1px;margin: -1px;overflow: hidden;padding: 0;position: absolute;width: 1px;}#sk-container-id-1 div.sk-estimator {font-family: monospace;background-color: #f0f8ff;border: 1px dotted black;border-radius: 0.25em;box-sizing: border-box;margin-bottom: 0.5em;}#sk-container-id-1 div.sk-estimator:hover {background-color: #d4ebff;}#sk-container-id-1 div.sk-parallel-item::after {content: \"\";width: 100%;border-bottom: 1px solid gray;flex-grow: 1;}#sk-container-id-1 div.sk-label:hover label.sk-toggleable__label {background-color: #d4ebff;}#sk-container-id-1 div.sk-serial::before {content: \"\";position: absolute;border-left: 1px solid gray;box-sizing: border-box;top: 0;bottom: 0;left: 50%;z-index: 0;}#sk-container-id-1 div.sk-serial {display: flex;flex-direction: column;align-items: center;background-color: white;padding-right: 0.2em;padding-left: 0.2em;position: relative;}#sk-container-id-1 div.sk-item {position: relative;z-index: 1;}#sk-container-id-1 div.sk-parallel {display: flex;align-items: stretch;justify-content: center;background-color: white;position: relative;}#sk-container-id-1 div.sk-item::before, #sk-container-id-1 div.sk-parallel-item::before {content: \"\";position: absolute;border-left: 1px solid gray;box-sizing: border-box;top: 0;bottom: 0;left: 50%;z-index: -1;}#sk-container-id-1 div.sk-parallel-item {display: flex;flex-direction: column;z-index: 1;position: relative;background-color: white;}#sk-container-id-1 div.sk-parallel-item:first-child::after {align-self: flex-end;width: 50%;}#sk-container-id-1 div.sk-parallel-item:last-child::after {align-self: flex-start;width: 50%;}#sk-container-id-1 div.sk-parallel-item:only-child::after {width: 0;}#sk-container-id-1 div.sk-dashed-wrapped {border: 1px dashed gray;margin: 0 0.4em 0.5em 0.4em;box-sizing: border-box;padding-bottom: 0.4em;background-color: white;}#sk-container-id-1 div.sk-label label {font-family: monospace;font-weight: bold;display: inline-block;line-height: 1.2em;}#sk-container-id-1 div.sk-label-container {text-align: center;}#sk-container-id-1 div.sk-container {/* jupyter's `normalize.less` sets `[hidden] { display: none; }` but bootstrap.min.css set `[hidden] { display: none !important; }` so we also need the `!important` here to be able to override the default hidden behavior on the sphinx rendered scikit-learn.org. See: https://github.com/scikit-learn/scikit-learn/issues/21755 */display: inline-block !important;position: relative;}#sk-container-id-1 div.sk-text-repr-fallback {display: none;}</style><div id=\"sk-container-id-1\" class=\"sk-top-container\"><div class=\"sk-text-repr-fallback\"><pre>KMeans(n_clusters=3, n_init=&#x27;auto&#x27;)</pre><b>In a Jupyter environment, please rerun this cell to show the HTML representation or trust the notebook. <br />On GitHub, the HTML representation is unable to render, please try loading this page with nbviewer.org.</b></div><div class=\"sk-container\" hidden><div class=\"sk-item\"><div class=\"sk-estimator sk-toggleable\"><input class=\"sk-toggleable__control sk-hidden--visually\" id=\"sk-estimator-id-1\" type=\"checkbox\" checked><label for=\"sk-estimator-id-1\" class=\"sk-toggleable__label sk-toggleable__label-arrow\">KMeans</label><div class=\"sk-toggleable__content\"><pre>KMeans(n_clusters=3, n_init=&#x27;auto&#x27;)</pre></div></div></div></div></div>"
      ],
      "text/plain": [
       "KMeans(n_clusters=3, n_init='auto')"
      ]
     },
     "execution_count": 3,
     "metadata": {},
     "output_type": "execute_result"
    }
   ],
   "source": [
    "model.fit(dataset)"
   ]
  },
  {
   "cell_type": "markdown",
   "id": "c8ca76bd",
   "metadata": {
    "papermill": {
     "duration": 0.006259,
     "end_time": "2023-06-02T20:52:40.808644",
     "exception": false,
     "start_time": "2023-06-02T20:52:40.802385",
     "status": "completed"
    },
    "tags": []
   },
   "source": [
    "**After initializing the model we train it using the model.fit method.\n",
    "We are ready to make predictions.**"
   ]
  },
  {
   "cell_type": "code",
   "execution_count": 4,
   "id": "81b37bd5",
   "metadata": {
    "execution": {
     "iopub.execute_input": "2023-06-02T20:52:40.823858Z",
     "iopub.status.busy": "2023-06-02T20:52:40.823087Z",
     "iopub.status.idle": "2023-06-02T20:52:40.829262Z",
     "shell.execute_reply": "2023-06-02T20:52:40.828590Z"
    },
    "papermill": {
     "duration": 0.016368,
     "end_time": "2023-06-02T20:52:40.831756",
     "exception": false,
     "start_time": "2023-06-02T20:52:40.815388",
     "status": "completed"
    },
    "tags": []
   },
   "outputs": [],
   "source": [
    "labels = model.predict(dataset)"
   ]
  },
  {
   "cell_type": "code",
   "execution_count": 5,
   "id": "dffa47d9",
   "metadata": {
    "execution": {
     "iopub.execute_input": "2023-06-02T20:52:40.846398Z",
     "iopub.status.busy": "2023-06-02T20:52:40.846074Z",
     "iopub.status.idle": "2023-06-02T20:52:40.856203Z",
     "shell.execute_reply": "2023-06-02T20:52:40.854767Z"
    },
    "papermill": {
     "duration": 0.020087,
     "end_time": "2023-06-02T20:52:40.858571",
     "exception": false,
     "start_time": "2023-06-02T20:52:40.838484",
     "status": "completed"
    },
    "tags": []
   },
   "outputs": [
    {
     "data": {
      "text/plain": [
       "(array([0, 1, 2], dtype=int32), array([4288, 2334,  428]))"
      ]
     },
     "execution_count": 5,
     "metadata": {},
     "output_type": "execute_result"
    }
   ],
   "source": [
    "import numpy as np\n",
    "np.unique(labels, return_counts=True)"
   ]
  },
  {
   "cell_type": "markdown",
   "id": "d9a5e0ac",
   "metadata": {
    "papermill": {
     "duration": 0.006143,
     "end_time": "2023-06-02T20:52:40.871450",
     "exception": false,
     "start_time": "2023-06-02T20:52:40.865307",
     "status": "completed"
    },
    "tags": []
   },
   "source": [
    "* Since we set the number of clusters to 3, we have three labels."
   ]
  },
  {
   "cell_type": "markdown",
   "id": "faf11f6b",
   "metadata": {
    "papermill": {
     "duration": 0.006294,
     "end_time": "2023-06-02T20:52:40.884303",
     "exception": false,
     "start_time": "2023-06-02T20:52:40.878009",
     "status": "completed"
    },
    "tags": []
   },
   "source": [
    "**To check that the model performs best, we take a series of values of the set K.**"
   ]
  },
  {
   "cell_type": "code",
   "execution_count": 6,
   "id": "31593901",
   "metadata": {
    "execution": {
     "iopub.execute_input": "2023-06-02T20:52:40.899186Z",
     "iopub.status.busy": "2023-06-02T20:52:40.898585Z",
     "iopub.status.idle": "2023-06-02T20:52:47.591914Z",
     "shell.execute_reply": "2023-06-02T20:52:47.589622Z"
    },
    "papermill": {
     "duration": 6.703147,
     "end_time": "2023-06-02T20:52:47.593953",
     "exception": false,
     "start_time": "2023-06-02T20:52:40.890806",
     "status": "completed"
    },
    "tags": []
   },
   "outputs": [
    {
     "name": "stdout",
     "output_type": "stream",
     "text": [
      "For n_cluster =2, The Silhouette Coefficient is 0.8188237721696822\n",
      "For n_cluster =3, The Silhouette Coefficient is 0.8972493682244883\n",
      "For n_cluster =4, The Silhouette Coefficient is 0.9106664962327088\n",
      "For n_cluster =5, The Silhouette Coefficient is 0.8866768371183754\n",
      "For n_cluster =6, The Silhouette Coefficient is 0.8421404750401401\n",
      "For n_cluster =7, The Silhouette Coefficient is 0.8419421782294257\n",
      "For n_cluster =8, The Silhouette Coefficient is 0.8369757672176514\n",
      "For n_cluster =9, The Silhouette Coefficient is 0.6988111749341444\n",
      "For n_cluster =10, The Silhouette Coefficient is 0.7523149983003534\n",
      "For n_cluster =11, The Silhouette Coefficient is 0.6608483594433741\n"
     ]
    }
   ],
   "source": [
    "from sklearn.metrics import silhouette_score\n",
    "import matplotlib.pyplot as plt\n",
    "silhouettes = []\n",
    "ks = list(range(2,12))\n",
    "for n_cluster in ks:\n",
    "    kmeans = KMeans(n_clusters=n_cluster,n_init='auto').fit(dataset)\n",
    "    label = kmeans.labels_\n",
    "    sil_coeff = silhouette_score(dataset, label, metric='euclidean')\n",
    "    print(\"For n_cluster ={}, The Silhouette Coefficient is {}\".format(n_cluster, sil_coeff))\n",
    "    silhouettes.append(sil_coeff)\n"
   ]
  },
  {
   "cell_type": "code",
   "execution_count": 7,
   "id": "8887cf0a",
   "metadata": {
    "execution": {
     "iopub.execute_input": "2023-06-02T20:52:47.610163Z",
     "iopub.status.busy": "2023-06-02T20:52:47.609820Z",
     "iopub.status.idle": "2023-06-02T20:52:47.834293Z",
     "shell.execute_reply": "2023-06-02T20:52:47.833021Z"
    },
    "papermill": {
     "duration": 0.235906,
     "end_time": "2023-06-02T20:52:47.837090",
     "exception": false,
     "start_time": "2023-06-02T20:52:47.601184",
     "status": "completed"
    },
    "tags": []
   },
   "outputs": [
    {
     "data": {
      "image/png": "[encoded data removed]",
      "text/plain": [
       "<Figure size 1200x800 with 1 Axes>"
      ]
     },
     "metadata": {},
     "output_type": "display_data"
    }
   ],
   "source": [
    "plt.figure(figsize=(12,8))\n",
    "plt.subplot(211)\n",
    "plt.scatter(ks, silhouettes, marker='x', c='r') \n",
    "plt.plot(ks, silhouettes)\n",
    "plt.xlabel('k')\n",
    "plt.ylabel('Silhouette score');"
   ]
  },
  {
   "cell_type": "markdown",
   "id": "102dfd12",
   "metadata": {
    "papermill": {
     "duration": 0.007467,
     "end_time": "2023-06-02T20:52:47.852209",
     "exception": false,
     "start_time": "2023-06-02T20:52:47.844742",
     "status": "completed"
    },
    "tags": []
   },
   "source": [
    "* The number of clusters where we get the highest value of the silhouette coefficient is 4."
   ]
  },
  {
   "cell_type": "markdown",
   "id": "2a3bffab",
   "metadata": {
    "papermill": {
     "duration": 0.006935,
     "end_time": "2023-06-02T20:52:47.866478",
     "exception": false,
     "start_time": "2023-06-02T20:52:47.859543",
     "status": "completed"
    },
    "tags": []
   },
   "source": [
    "**We change the clustering number to 4 for better results.**"
   ]
  },
  {
   "cell_type": "code",
   "execution_count": 8,
   "id": "0c3ac960",
   "metadata": {
    "execution": {
     "iopub.execute_input": "2023-06-02T20:52:47.884219Z",
     "iopub.status.busy": "2023-06-02T20:52:47.883744Z",
     "iopub.status.idle": "2023-06-02T20:52:48.016248Z",
     "shell.execute_reply": "2023-06-02T20:52:48.015526Z"
    },
    "papermill": {
     "duration": 0.144569,
     "end_time": "2023-06-02T20:52:48.018368",
     "exception": false,
     "start_time": "2023-06-02T20:52:47.873799",
     "status": "completed"
    },
    "tags": []
   },
   "outputs": [
    {
     "data": {
      "text/plain": [
       "(array([0, 1, 2, 3], dtype=int32), array([4288, 2334,  365,   63]))"
      ]
     },
     "execution_count": 8,
     "metadata": {},
     "output_type": "execute_result"
    }
   ],
   "source": [
    "from sklearn.cluster import KMeans\n",
    "model = KMeans(n_clusters = 4,n_init='auto')\n",
    "model.fit(dataset)\n",
    "labels = model.predict(dataset)\n",
    "import numpy as np\n",
    "np.unique(labels, return_counts = True)"
   ]
  },
  {
   "cell_type": "code",
   "execution_count": 9,
   "id": "2ee97765",
   "metadata": {
    "execution": {
     "iopub.execute_input": "2023-06-02T20:52:48.036426Z",
     "iopub.status.busy": "2023-06-02T20:52:48.035275Z",
     "iopub.status.idle": "2023-06-02T20:52:48.047330Z",
     "shell.execute_reply": "2023-06-02T20:52:48.046417Z"
    },
    "papermill": {
     "duration": 0.022966,
     "end_time": "2023-06-02T20:52:48.049344",
     "exception": false,
     "start_time": "2023-06-02T20:52:48.026378",
     "status": "completed"
    },
    "tags": []
   },
   "outputs": [
    {
     "data": {
      "text/plain": [
       "0    4288\n",
       "1    2334\n",
       "2     365\n",
       "3      63\n",
       "Name: labels, dtype: int64"
      ]
     },
     "execution_count": 9,
     "metadata": {},
     "output_type": "execute_result"
    }
   ],
   "source": [
    "dataset[\"labels\"] = labels\n",
    "dataset[\"labels\"].value_counts()"
   ]
  },
  {
   "cell_type": "code",
   "execution_count": 10,
   "id": "620b5b07",
   "metadata": {
    "execution": {
     "iopub.execute_input": "2023-06-02T20:52:48.066893Z",
     "iopub.status.busy": "2023-06-02T20:52:48.066293Z",
     "iopub.status.idle": "2023-06-02T20:52:48.078359Z",
     "shell.execute_reply": "2023-06-02T20:52:48.076795Z"
    },
    "papermill": {
     "duration": 0.023795,
     "end_time": "2023-06-02T20:52:48.081074",
     "exception": false,
     "start_time": "2023-06-02T20:52:48.057279",
     "status": "completed"
    },
    "tags": []
   },
   "outputs": [
    {
     "data": {
      "text/plain": [
       "0.0007619566531325948"
      ]
     },
     "execution_count": 10,
     "metadata": {},
     "output_type": "execute_result"
    }
   ],
   "source": [
    "group_zero = dataset[dataset[\"labels\"] == 0]['num_comments'].mean()\n",
    "group_zero"
   ]
  },
  {
   "cell_type": "code",
   "execution_count": 11,
   "id": "632a6850",
   "metadata": {
    "execution": {
     "iopub.execute_input": "2023-06-02T20:52:48.099483Z",
     "iopub.status.busy": "2023-06-02T20:52:48.099101Z",
     "iopub.status.idle": "2023-06-02T20:52:48.106927Z",
     "shell.execute_reply": "2023-06-02T20:52:48.105666Z"
    },
    "papermill": {
     "duration": 0.019864,
     "end_time": "2023-06-02T20:52:48.109293",
     "exception": false,
     "start_time": "2023-06-02T20:52:48.089429",
     "status": "completed"
    },
    "tags": []
   },
   "outputs": [
    {
     "data": {
      "text/plain": [
       "0.030608773182480054"
      ]
     },
     "execution_count": 11,
     "metadata": {},
     "output_type": "execute_result"
    }
   ],
   "source": [
    "group_one = dataset[dataset[\"labels\"] == 1]['num_comments'].mean()\n",
    "group_one"
   ]
  },
  {
   "cell_type": "code",
   "execution_count": 12,
   "id": "954b52d5",
   "metadata": {
    "execution": {
     "iopub.execute_input": "2023-06-02T20:52:48.127431Z",
     "iopub.status.busy": "2023-06-02T20:52:48.126846Z",
     "iopub.status.idle": "2023-06-02T20:52:48.134840Z",
     "shell.execute_reply": "2023-06-02T20:52:48.133852Z"
    },
    "papermill": {
     "duration": 0.019449,
     "end_time": "2023-06-02T20:52:48.136676",
     "exception": false,
     "start_time": "2023-06-02T20:52:48.117227",
     "status": "completed"
    },
    "tags": []
   },
   "outputs": [
    {
     "data": {
      "text/plain": [
       "0.0017264581307471548"
      ]
     },
     "execution_count": 12,
     "metadata": {},
     "output_type": "execute_result"
    }
   ],
   "source": [
    "group_two = dataset[dataset[\"labels\"] == 2]['num_comments'].mean()\n",
    "group_two"
   ]
  },
  {
   "cell_type": "code",
   "execution_count": 13,
   "id": "59d8a630",
   "metadata": {
    "execution": {
     "iopub.execute_input": "2023-06-02T20:52:48.154463Z",
     "iopub.status.busy": "2023-06-02T20:52:48.153909Z",
     "iopub.status.idle": "2023-06-02T20:52:48.161244Z",
     "shell.execute_reply": "2023-06-02T20:52:48.159910Z"
    },
    "papermill": {
     "duration": 0.019003,
     "end_time": "2023-06-02T20:52:48.163703",
     "exception": false,
     "start_time": "2023-06-02T20:52:48.144700",
     "status": "completed"
    },
    "tags": []
   },
   "outputs": [
    {
     "data": {
      "text/plain": [
       "0.00027148226290672723"
      ]
     },
     "execution_count": 13,
     "metadata": {},
     "output_type": "execute_result"
    }
   ],
   "source": [
    "group_three = dataset[dataset[\"labels\"] == 3]['num_comments'].mean()\n",
    "group_three"
   ]
  },
  {
   "cell_type": "markdown",
   "id": "255bf2ed",
   "metadata": {
    "papermill": {
     "duration": 0.007636,
     "end_time": "2023-06-02T20:52:48.179689",
     "exception": false,
     "start_time": "2023-06-02T20:52:48.172053",
     "status": "completed"
    },
    "tags": []
   },
   "source": [
    "* We found the average number of comments for each clustered group. We see that the average number of comments for each group is different.\n",
    "\n",
    "* Therefore, according to the number of comments, we can find the most famous group among users.\n",
    "\n",
    "* The most popular group is 1. Then in order: 2, 0, 3"
   ]
  },
  {
   "cell_type": "markdown",
   "id": "c0b9de88",
   "metadata": {
    "papermill": {
     "duration": 0.007762,
     "end_time": "2023-06-02T20:52:48.195360",
     "exception": false,
     "start_time": "2023-06-02T20:52:48.187598",
     "status": "completed"
    },
    "tags": []
   },
   "source": [
    "**We can also see the average number of shares for each group**"
   ]
  },
  {
   "cell_type": "code",
   "execution_count": 14,
   "id": "293d4489",
   "metadata": {
    "execution": {
     "iopub.execute_input": "2023-06-02T20:52:48.212988Z",
     "iopub.status.busy": "2023-06-02T20:52:48.212633Z",
     "iopub.status.idle": "2023-06-02T20:52:48.219930Z",
     "shell.execute_reply": "2023-06-02T20:52:48.218712Z"
    },
    "papermill": {
     "duration": 0.018754,
     "end_time": "2023-06-02T20:52:48.222089",
     "exception": false,
     "start_time": "2023-06-02T20:52:48.203335",
     "status": "completed"
    },
    "tags": []
   },
   "outputs": [
    {
     "data": {
      "text/plain": [
       "0.0007458736181824375"
      ]
     },
     "execution_count": 14,
     "metadata": {},
     "output_type": "execute_result"
    }
   ],
   "source": [
    "group_zero = dataset[dataset[\"labels\"] == 0]['num_shares'].mean()\n",
    "group_zero"
   ]
  },
  {
   "cell_type": "code",
   "execution_count": 15,
   "id": "fd47f988",
   "metadata": {
    "execution": {
     "iopub.execute_input": "2023-06-02T20:52:48.241065Z",
     "iopub.status.busy": "2023-06-02T20:52:48.240099Z",
     "iopub.status.idle": "2023-06-02T20:52:48.248492Z",
     "shell.execute_reply": "2023-06-02T20:52:48.247161Z"
    },
    "papermill": {
     "duration": 0.019881,
     "end_time": "2023-06-02T20:52:48.250548",
     "exception": false,
     "start_time": "2023-06-02T20:52:48.230667",
     "status": "completed"
    },
    "tags": []
   },
   "outputs": [
    {
     "data": {
      "text/plain": [
       "0.033785031713235436"
      ]
     },
     "execution_count": 15,
     "metadata": {},
     "output_type": "execute_result"
    }
   ],
   "source": [
    "group_one = dataset[dataset[\"labels\"] == 1]['num_shares'].mean()\n",
    "group_one"
   ]
  },
  {
   "cell_type": "code",
   "execution_count": 16,
   "id": "d3ab164a",
   "metadata": {
    "execution": {
     "iopub.execute_input": "2023-06-02T20:52:48.269002Z",
     "iopub.status.busy": "2023-06-02T20:52:48.268657Z",
     "iopub.status.idle": "2023-06-02T20:52:48.277549Z",
     "shell.execute_reply": "2023-06-02T20:52:48.276434Z"
    },
    "papermill": {
     "duration": 0.020982,
     "end_time": "2023-06-02T20:52:48.280015",
     "exception": false,
     "start_time": "2023-06-02T20:52:48.259033",
     "status": "completed"
    },
    "tags": []
   },
   "outputs": [
    {
     "data": {
      "text/plain": [
       "0.0007473434899500528"
      ]
     },
     "execution_count": 16,
     "metadata": {},
     "output_type": "execute_result"
    }
   ],
   "source": [
    "group_two = dataset[dataset[\"labels\"] == 2]['num_shares'].mean()\n",
    "group_two"
   ]
  },
  {
   "cell_type": "code",
   "execution_count": 17,
   "id": "9a405723",
   "metadata": {
    "execution": {
     "iopub.execute_input": "2023-06-02T20:52:48.298942Z",
     "iopub.status.busy": "2023-06-02T20:52:48.298587Z",
     "iopub.status.idle": "2023-06-02T20:52:48.307333Z",
     "shell.execute_reply": "2023-06-02T20:52:48.305631Z"
    },
    "papermill": {
     "duration": 0.021173,
     "end_time": "2023-06-02T20:52:48.310006",
     "exception": false,
     "start_time": "2023-06-02T20:52:48.288833",
     "status": "completed"
    },
    "tags": []
   },
   "outputs": [
    {
     "data": {
      "text/plain": [
       "0.001284119566829822"
      ]
     },
     "execution_count": 17,
     "metadata": {},
     "output_type": "execute_result"
    }
   ],
   "source": [
    "group_three = dataset[dataset[\"labels\"] == 3]['num_shares'].mean()\n",
    "group_three"
   ]
  },
  {
   "cell_type": "markdown",
   "id": "691f8918",
   "metadata": {
    "papermill": {
     "duration": 0.007782,
     "end_time": "2023-06-02T20:52:48.326418",
     "exception": false,
     "start_time": "2023-06-02T20:52:48.318636",
     "status": "completed"
    },
    "tags": []
   },
   "source": [
    "* According to the number of shares, we see that the most popular group is again 1."
   ]
  },
  {
   "cell_type": "code",
   "execution_count": 18,
   "id": "4ab0dd66",
   "metadata": {
    "execution": {
     "iopub.execute_input": "2023-06-02T20:52:48.344532Z",
     "iopub.status.busy": "2023-06-02T20:52:48.344124Z",
     "iopub.status.idle": "2023-06-02T20:52:48.364322Z",
     "shell.execute_reply": "2023-06-02T20:52:48.363044Z"
    },
    "papermill": {
     "duration": 0.032412,
     "end_time": "2023-06-02T20:52:48.366895",
     "exception": false,
     "start_time": "2023-06-02T20:52:48.334483",
     "status": "completed"
    },
    "tags": []
   },
   "outputs": [],
   "source": [
    "status_type = dataset[['status_type_photo', 'status_type_video', 'status_type_status']].idxmax(axis=1)\n",
    "dataset = pd.concat([dataset['labels'], status_type.rename('status_type')], axis=1)"
   ]
  },
  {
   "cell_type": "code",
   "execution_count": 19,
   "id": "19b47470",
   "metadata": {
    "execution": {
     "iopub.execute_input": "2023-06-02T20:52:48.386958Z",
     "iopub.status.busy": "2023-06-02T20:52:48.385190Z",
     "iopub.status.idle": "2023-06-02T20:52:48.402166Z",
     "shell.execute_reply": "2023-06-02T20:52:48.401117Z"
    },
    "papermill": {
     "duration": 0.028832,
     "end_time": "2023-06-02T20:52:48.404311",
     "exception": false,
     "start_time": "2023-06-02T20:52:48.375479",
     "status": "completed"
    },
    "tags": []
   },
   "outputs": [
    {
     "data": {
      "text/plain": [
       "labels  status_type       \n",
       "0       status_type_photo     4288\n",
       "1       status_type_video     2334\n",
       "2       status_type_status     365\n",
       "3       status_type_photo       63\n",
       "Name: status_type, dtype: int64"
      ]
     },
     "execution_count": 19,
     "metadata": {},
     "output_type": "execute_result"
    }
   ],
   "source": [
    "dataset.groupby(['labels', 'status_type'])['status_type'].count()"
   ]
  },
  {
   "cell_type": "markdown",
   "id": "9115804f",
   "metadata": {
    "papermill": {
     "duration": 0.008599,
     "end_time": "2023-06-02T20:52:48.421722",
     "exception": false,
     "start_time": "2023-06-02T20:52:48.413123",
     "status": "completed"
    },
    "tags": []
   },
   "source": [
    "* We can say that there are only photographs in group 0.\n",
    "* We can say that there is only video in group 1.\n",
    "\n",
    "* It means that customers prefer to see photos of the product.\n",
    "* Despite this, the most popular group among users was 1."
   ]
  },
  {
   "cell_type": "markdown",
   "id": "c89c4d26",
   "metadata": {
    "papermill": {
     "duration": 0.008038,
     "end_time": "2023-06-02T20:52:48.438777",
     "exception": false,
     "start_time": "2023-06-02T20:52:48.430739",
     "status": "completed"
    },
    "tags": []
   },
   "source": [
    "# **Thank you!!**"
   ]
  }
 ],
 "metadata": {
  "kernelspec": {
   "display_name": "Python 3",
   "language": "python",
   "name": "python3"
  },
  "language_info": {
   "codemirror_mode": {
    "name": "ipython",
    "version": 3
   },
   "file_extension": ".py",
   "mimetype": "text/x-python",
   "name": "python",
   "nbconvert_exporter": "python",
   "pygments_lexer": "ipython3",
   "version": "3.10.10"
  },
  "papermill": {
   "default_parameters": {},
   "duration": 20.898869,
   "end_time": "2023-06-02T20:52:49.571296",
   "environment_variables": {},
   "exception": null,
   "input_path": "__notebook__.ipynb",
   "output_path": "__notebook__.ipynb",
   "parameters": {},
   "start_time": "2023-06-02T20:52:28.672427",
   "version": "2.4.0"
  }
 },
 "nbformat": 4,
 "nbformat_minor": 5
}
