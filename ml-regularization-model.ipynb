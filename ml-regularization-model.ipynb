{
 "cells": [
  {
   "cell_type": "code",
   "execution_count": 1,
   "id": "e28405f8",
   "metadata": {
    "execution": {
     "iopub.execute_input": "2023-06-06T21:26:00.111625Z",
     "iopub.status.busy": "2023-06-06T21:26:00.110472Z",
     "iopub.status.idle": "2023-06-06T21:26:01.476459Z",
     "shell.execute_reply": "2023-06-06T21:26:01.474974Z"
    },
    "papermill": {
     "duration": 1.37516,
     "end_time": "2023-06-06T21:26:01.479699",
     "exception": false,
     "start_time": "2023-06-06T21:26:00.104539",
     "status": "completed"
    },
    "tags": []
   },
   "outputs": [],
   "source": [
    "import pandas as pd\n",
    "from sklearn.linear_model import LinearRegression, Ridge\n",
    "from sklearn.model_selection import train_test_split\n",
    "from sklearn.metrics import mean_squared_error"
   ]
  },
  {
   "cell_type": "code",
   "execution_count": 2,
   "id": "72e622bb",
   "metadata": {
    "execution": {
     "iopub.execute_input": "2023-06-06T21:26:01.487123Z",
     "iopub.status.busy": "2023-06-06T21:26:01.486387Z",
     "iopub.status.idle": "2023-06-06T21:26:01.531491Z",
     "shell.execute_reply": "2023-06-06T21:26:01.530050Z"
    },
    "papermill": {
     "duration": 0.050708,
     "end_time": "2023-06-06T21:26:01.533896",
     "exception": false,
     "start_time": "2023-06-06T21:26:01.483188",
     "status": "completed"
    },
    "tags": []
   },
   "outputs": [],
   "source": [
    "data = pd.read_csv('/kaggle/input/regression-model-dataset/train (2).csv')\n",
    "x = data.drop('SalePrice', axis=1)\n",
    "y = data.loc[:, 'SalePrice']\n",
    "x_train, x_test, y_train, y_test = train_test_split(x, y, test_size=0.3)"
   ]
  },
  {
   "cell_type": "code",
   "execution_count": 3,
   "id": "b4bb5e7a",
   "metadata": {
    "execution": {
     "iopub.execute_input": "2023-06-06T21:26:01.539749Z",
     "iopub.status.busy": "2023-06-06T21:26:01.539351Z",
     "iopub.status.idle": "2023-06-06T21:26:01.544991Z",
     "shell.execute_reply": "2023-06-06T21:26:01.543723Z"
    },
    "papermill": {
     "duration": 0.010855,
     "end_time": "2023-06-06T21:26:01.547062",
     "exception": false,
     "start_time": "2023-06-06T21:26:01.536207",
     "status": "completed"
    },
    "tags": []
   },
   "outputs": [],
   "source": [
    "linear_reg = LinearRegression()\n",
    "ridge_reg = Ridge(alpha=0.05)"
   ]
  },
  {
   "cell_type": "code",
   "execution_count": 4,
   "id": "31ef8cec",
   "metadata": {
    "execution": {
     "iopub.execute_input": "2023-06-06T21:26:01.553237Z",
     "iopub.status.busy": "2023-06-06T21:26:01.552882Z",
     "iopub.status.idle": "2023-06-06T21:26:01.592912Z",
     "shell.execute_reply": "2023-06-06T21:26:01.592074Z"
    },
    "papermill": {
     "duration": 0.045629,
     "end_time": "2023-06-06T21:26:01.595045",
     "exception": false,
     "start_time": "2023-06-06T21:26:01.549416",
     "status": "completed"
    },
    "tags": []
   },
   "outputs": [
    {
     "data": {
      "text/html": [
       "<style>#sk-container-id-1 {color: black;background-color: white;}#sk-container-id-1 pre{padding: 0;}#sk-container-id-1 div.sk-toggleable {background-color: white;}#sk-container-id-1 label.sk-toggleable__label {cursor: pointer;display: block;width: 100%;margin-bottom: 0;padding: 0.3em;box-sizing: border-box;text-align: center;}#sk-container-id-1 label.sk-toggleable__label-arrow:before {content: \"▸\";float: left;margin-right: 0.25em;color: #696969;}#sk-container-id-1 label.sk-toggleable__label-arrow:hover:before {color: black;}#sk-container-id-1 div.sk-estimator:hover label.sk-toggleable__label-arrow:before {color: black;}#sk-container-id-1 div.sk-toggleable__content {max-height: 0;max-width: 0;overflow: hidden;text-align: left;background-color: #f0f8ff;}#sk-container-id-1 div.sk-toggleable__content pre {margin: 0.2em;color: black;border-radius: 0.25em;background-color: #f0f8ff;}#sk-container-id-1 input.sk-toggleable__control:checked~div.sk-toggleable__content {max-height: 200px;max-width: 100%;overflow: auto;}#sk-container-id-1 input.sk-toggleable__control:checked~label.sk-toggleable__label-arrow:before {content: \"▾\";}#sk-container-id-1 div.sk-estimator input.sk-toggleable__control:checked~label.sk-toggleable__label {background-color: #d4ebff;}#sk-container-id-1 div.sk-label input.sk-toggleable__control:checked~label.sk-toggleable__label {background-color: #d4ebff;}#sk-container-id-1 input.sk-hidden--visually {border: 0;clip: rect(1px 1px 1px 1px);clip: rect(1px, 1px, 1px, 1px);height: 1px;margin: -1px;overflow: hidden;padding: 0;position: absolute;width: 1px;}#sk-container-id-1 div.sk-estimator {font-family: monospace;background-color: #f0f8ff;border: 1px dotted black;border-radius: 0.25em;box-sizing: border-box;margin-bottom: 0.5em;}#sk-container-id-1 div.sk-estimator:hover {background-color: #d4ebff;}#sk-container-id-1 div.sk-parallel-item::after {content: \"\";width: 100%;border-bottom: 1px solid gray;flex-grow: 1;}#sk-container-id-1 div.sk-label:hover label.sk-toggleable__label {background-color: #d4ebff;}#sk-container-id-1 div.sk-serial::before {content: \"\";position: absolute;border-left: 1px solid gray;box-sizing: border-box;top: 0;bottom: 0;left: 50%;z-index: 0;}#sk-container-id-1 div.sk-serial {display: flex;flex-direction: column;align-items: center;background-color: white;padding-right: 0.2em;padding-left: 0.2em;position: relative;}#sk-container-id-1 div.sk-item {position: relative;z-index: 1;}#sk-container-id-1 div.sk-parallel {display: flex;align-items: stretch;justify-content: center;background-color: white;position: relative;}#sk-container-id-1 div.sk-item::before, #sk-container-id-1 div.sk-parallel-item::before {content: \"\";position: absolute;border-left: 1px solid gray;box-sizing: border-box;top: 0;bottom: 0;left: 50%;z-index: -1;}#sk-container-id-1 div.sk-parallel-item {display: flex;flex-direction: column;z-index: 1;position: relative;background-color: white;}#sk-container-id-1 div.sk-parallel-item:first-child::after {align-self: flex-end;width: 50%;}#sk-container-id-1 div.sk-parallel-item:last-child::after {align-self: flex-start;width: 50%;}#sk-container-id-1 div.sk-parallel-item:only-child::after {width: 0;}#sk-container-id-1 div.sk-dashed-wrapped {border: 1px dashed gray;margin: 0 0.4em 0.5em 0.4em;box-sizing: border-box;padding-bottom: 0.4em;background-color: white;}#sk-container-id-1 div.sk-label label {font-family: monospace;font-weight: bold;display: inline-block;line-height: 1.2em;}#sk-container-id-1 div.sk-label-container {text-align: center;}#sk-container-id-1 div.sk-container {/* jupyter's `normalize.less` sets `[hidden] { display: none; }` but bootstrap.min.css set `[hidden] { display: none !important; }` so we also need the `!important` here to be able to override the default hidden behavior on the sphinx rendered scikit-learn.org. See: https://github.com/scikit-learn/scikit-learn/issues/21755 */display: inline-block !important;position: relative;}#sk-container-id-1 div.sk-text-repr-fallback {display: none;}</style><div id=\"sk-container-id-1\" class=\"sk-top-container\"><div class=\"sk-text-repr-fallback\"><pre>Ridge(alpha=0.05)</pre><b>In a Jupyter environment, please rerun this cell to show the HTML representation or trust the notebook. <br />On GitHub, the HTML representation is unable to render, please try loading this page with nbviewer.org.</b></div><div class=\"sk-container\" hidden><div class=\"sk-item\"><div class=\"sk-estimator sk-toggleable\"><input class=\"sk-toggleable__control sk-hidden--visually\" id=\"sk-estimator-id-1\" type=\"checkbox\" checked><label for=\"sk-estimator-id-1\" class=\"sk-toggleable__label sk-toggleable__label-arrow\">Ridge</label><div class=\"sk-toggleable__content\"><pre>Ridge(alpha=0.05)</pre></div></div></div></div></div>"
      ],
      "text/plain": [
       "Ridge(alpha=0.05)"
      ]
     },
     "execution_count": 4,
     "metadata": {},
     "output_type": "execute_result"
    }
   ],
   "source": [
    "linear_reg.fit(x_train, y_train)\n",
    "ridge_reg.fit(x_train, y_train)"
   ]
  },
  {
   "cell_type": "code",
   "execution_count": 5,
   "id": "0d96d579",
   "metadata": {
    "execution": {
     "iopub.execute_input": "2023-06-06T21:26:01.601817Z",
     "iopub.status.busy": "2023-06-06T21:26:01.600764Z",
     "iopub.status.idle": "2023-06-06T21:26:01.608916Z",
     "shell.execute_reply": "2023-06-06T21:26:01.607506Z"
    },
    "papermill": {
     "duration": 0.014544,
     "end_time": "2023-06-06T21:26:01.611998",
     "exception": false,
     "start_time": "2023-06-06T21:26:01.597454",
     "status": "completed"
    },
    "tags": []
   },
   "outputs": [],
   "source": [
    "linear_pred = linear_reg.predict(x_test)\n",
    "ridge_pred = ridge_reg.predict(x_test)"
   ]
  },
  {
   "cell_type": "code",
   "execution_count": 6,
   "id": "c4475c68",
   "metadata": {
    "execution": {
     "iopub.execute_input": "2023-06-06T21:26:01.618446Z",
     "iopub.status.busy": "2023-06-06T21:26:01.618085Z",
     "iopub.status.idle": "2023-06-06T21:26:01.623980Z",
     "shell.execute_reply": "2023-06-06T21:26:01.622760Z"
    },
    "papermill": {
     "duration": 0.011666,
     "end_time": "2023-06-06T21:26:01.626268",
     "exception": false,
     "start_time": "2023-06-06T21:26:01.614602",
     "status": "completed"
    },
    "tags": []
   },
   "outputs": [],
   "source": [
    "linear_mse = mean_squared_error(y_test, linear_pred)\n",
    "ridge_mse = mean_squared_error(y_test, ridge_pred)"
   ]
  },
  {
   "cell_type": "code",
   "execution_count": 7,
   "id": "f8d83734",
   "metadata": {
    "execution": {
     "iopub.execute_input": "2023-06-06T21:26:01.633403Z",
     "iopub.status.busy": "2023-06-06T21:26:01.632701Z",
     "iopub.status.idle": "2023-06-06T21:26:01.638599Z",
     "shell.execute_reply": "2023-06-06T21:26:01.637882Z"
    },
    "papermill": {
     "duration": 0.01114,
     "end_time": "2023-06-06T21:26:01.640372",
     "exception": false,
     "start_time": "2023-06-06T21:26:01.629232",
     "status": "completed"
    },
    "tags": []
   },
   "outputs": [
    {
     "name": "stdout",
     "output_type": "stream",
     "text": [
      "MSE without Ridge: 1381634625.5726063\n",
      "MSE with Ridge : 1381524074.4975712\n"
     ]
    }
   ],
   "source": [
    "print(f\"MSE without Ridge: {linear_mse}\")\n",
    "print(f\"MSE with Ridge : {ridge_mse}\")"
   ]
  }
 ],
 "metadata": {
  "kernelspec": {
   "display_name": "Python 3",
   "language": "python",
   "name": "python3"
  },
  "language_info": {
   "codemirror_mode": {
    "name": "ipython",
    "version": 3
   },
   "file_extension": ".py",
   "mimetype": "text/x-python",
   "name": "python",
   "nbconvert_exporter": "python",
   "pygments_lexer": "ipython3",
   "version": "3.10.10"
  },
  "papermill": {
   "default_parameters": {},
   "duration": 11.064881,
   "end_time": "2023-06-06T21:26:02.463771",
   "environment_variables": {},
   "exception": null,
   "input_path": "__notebook__.ipynb",
   "output_path": "__notebook__.ipynb",
   "parameters": {},
   "start_time": "2023-06-06T21:25:51.398890",
   "version": "2.4.0"
  }
 },
 "nbformat": 4,
 "nbformat_minor": 5
}
