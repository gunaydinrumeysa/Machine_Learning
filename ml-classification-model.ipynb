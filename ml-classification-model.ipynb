{
 "cells": [
  {
   "cell_type": "markdown",
   "id": "0ffea99b",
   "metadata": {
    "papermill": {
     "duration": 0.009335,
     "end_time": "2023-06-06T20:28:28.010443",
     "exception": false,
     "start_time": "2023-06-06T20:28:28.001108",
     "status": "completed"
    },
    "tags": []
   },
   "source": [
    "# Let's make a classification model with breast cancer dataset.\n",
    "**This dataset contains statistical data obtained from histopathology studies.**\n",
    "\n",
    "\n",
    "**There is a binary classification problem.**\n",
    "\n",
    "**We want to classify it as benign or malignant.**\n",
    "\n"
   ]
  },
  {
   "cell_type": "code",
   "execution_count": 1,
   "id": "0c703b01",
   "metadata": {
    "execution": {
     "iopub.execute_input": "2023-06-06T20:28:28.029846Z",
     "iopub.status.busy": "2023-06-06T20:28:28.029418Z",
     "iopub.status.idle": "2023-06-06T20:28:28.076035Z",
     "shell.execute_reply": "2023-06-06T20:28:28.075067Z"
    },
    "papermill": {
     "duration": 0.059404,
     "end_time": "2023-06-06T20:28:28.078620",
     "exception": false,
     "start_time": "2023-06-06T20:28:28.019216",
     "status": "completed"
    },
    "tags": []
   },
   "outputs": [],
   "source": [
    "import pandas as pd\n",
    "dataset = pd.read_csv('/kaggle/input/breast-cancer-dataset/breast-cancer (3).csv')"
   ]
  },
  {
   "cell_type": "code",
   "execution_count": 2,
   "id": "18e194a4",
   "metadata": {
    "execution": {
     "iopub.execute_input": "2023-06-06T20:28:28.099089Z",
     "iopub.status.busy": "2023-06-06T20:28:28.098375Z",
     "iopub.status.idle": "2023-06-06T20:28:28.106900Z",
     "shell.execute_reply": "2023-06-06T20:28:28.106049Z"
    },
    "papermill": {
     "duration": 0.021635,
     "end_time": "2023-06-06T20:28:28.109202",
     "exception": false,
     "start_time": "2023-06-06T20:28:28.087567",
     "status": "completed"
    },
    "tags": []
   },
   "outputs": [
    {
     "data": {
      "text/plain": [
       "(569, 31)"
      ]
     },
     "execution_count": 2,
     "metadata": {},
     "output_type": "execute_result"
    }
   ],
   "source": [
    "dataset.shape"
   ]
  },
  {
   "cell_type": "code",
   "execution_count": 3,
   "id": "865d7e1d",
   "metadata": {
    "execution": {
     "iopub.execute_input": "2023-06-06T20:28:28.130839Z",
     "iopub.status.busy": "2023-06-06T20:28:28.130172Z",
     "iopub.status.idle": "2023-06-06T20:28:28.175936Z",
     "shell.execute_reply": "2023-06-06T20:28:28.174984Z"
    },
    "papermill": {
     "duration": 0.060589,
     "end_time": "2023-06-06T20:28:28.178945",
     "exception": false,
     "start_time": "2023-06-06T20:28:28.118356",
     "status": "completed"
    },
    "tags": []
   },
   "outputs": [
    {
     "data": {
      "text/html": [
       "<div>\n",
       "<style scoped>\n",
       "    .dataframe tbody tr th:only-of-type {\n",
       "        vertical-align: middle;\n",
       "    }\n",
       "\n",
       "    .dataframe tbody tr th {\n",
       "        vertical-align: top;\n",
       "    }\n",
       "\n",
       "    .dataframe thead th {\n",
       "        text-align: right;\n",
       "    }\n",
       "</style>\n",
       "<table border=\"1\" class=\"dataframe\">\n",
       "  <thead>\n",
       "    <tr style=\"text-align: right;\">\n",
       "      <th></th>\n",
       "      <th>diagnosis</th>\n",
       "      <th>radius_mean</th>\n",
       "      <th>texture_mean</th>\n",
       "      <th>perimeter_mean</th>\n",
       "      <th>area_mean</th>\n",
       "      <th>smoothness_mean</th>\n",
       "      <th>compactness_mean</th>\n",
       "      <th>concavity_mean</th>\n",
       "      <th>concave points_mean</th>\n",
       "      <th>symmetry_mean</th>\n",
       "      <th>...</th>\n",
       "      <th>radius_worst</th>\n",
       "      <th>texture_worst</th>\n",
       "      <th>perimeter_worst</th>\n",
       "      <th>area_worst</th>\n",
       "      <th>smoothness_worst</th>\n",
       "      <th>compactness_worst</th>\n",
       "      <th>concavity_worst</th>\n",
       "      <th>concave points_worst</th>\n",
       "      <th>symmetry_worst</th>\n",
       "      <th>fractal_dimension_worst</th>\n",
       "    </tr>\n",
       "  </thead>\n",
       "  <tbody>\n",
       "    <tr>\n",
       "      <th>0</th>\n",
       "      <td>M</td>\n",
       "      <td>1.097064</td>\n",
       "      <td>-2.073335</td>\n",
       "      <td>1.269934</td>\n",
       "      <td>0.984375</td>\n",
       "      <td>1.568466</td>\n",
       "      <td>3.283515</td>\n",
       "      <td>2.652874</td>\n",
       "      <td>2.532475</td>\n",
       "      <td>2.217515</td>\n",
       "      <td>...</td>\n",
       "      <td>1.886690</td>\n",
       "      <td>-1.359293</td>\n",
       "      <td>2.303601</td>\n",
       "      <td>2.001237</td>\n",
       "      <td>1.307686</td>\n",
       "      <td>2.616665</td>\n",
       "      <td>2.109526</td>\n",
       "      <td>2.296076</td>\n",
       "      <td>2.750622</td>\n",
       "      <td>1.937015</td>\n",
       "    </tr>\n",
       "    <tr>\n",
       "      <th>1</th>\n",
       "      <td>M</td>\n",
       "      <td>1.829821</td>\n",
       "      <td>-0.353632</td>\n",
       "      <td>1.685955</td>\n",
       "      <td>1.908708</td>\n",
       "      <td>-0.826962</td>\n",
       "      <td>-0.487072</td>\n",
       "      <td>-0.023846</td>\n",
       "      <td>0.548144</td>\n",
       "      <td>0.001392</td>\n",
       "      <td>...</td>\n",
       "      <td>1.805927</td>\n",
       "      <td>-0.369203</td>\n",
       "      <td>1.535126</td>\n",
       "      <td>1.890489</td>\n",
       "      <td>-0.375612</td>\n",
       "      <td>-0.430444</td>\n",
       "      <td>-0.146749</td>\n",
       "      <td>1.087084</td>\n",
       "      <td>-0.243890</td>\n",
       "      <td>0.281190</td>\n",
       "    </tr>\n",
       "    <tr>\n",
       "      <th>2</th>\n",
       "      <td>M</td>\n",
       "      <td>1.579888</td>\n",
       "      <td>0.456187</td>\n",
       "      <td>1.566503</td>\n",
       "      <td>1.558884</td>\n",
       "      <td>0.942210</td>\n",
       "      <td>1.052926</td>\n",
       "      <td>1.363478</td>\n",
       "      <td>2.037231</td>\n",
       "      <td>0.939685</td>\n",
       "      <td>...</td>\n",
       "      <td>1.511870</td>\n",
       "      <td>-0.023974</td>\n",
       "      <td>1.347475</td>\n",
       "      <td>1.456285</td>\n",
       "      <td>0.527407</td>\n",
       "      <td>1.082932</td>\n",
       "      <td>0.854974</td>\n",
       "      <td>1.955000</td>\n",
       "      <td>1.152255</td>\n",
       "      <td>0.201391</td>\n",
       "    </tr>\n",
       "    <tr>\n",
       "      <th>3</th>\n",
       "      <td>M</td>\n",
       "      <td>-0.768909</td>\n",
       "      <td>0.253732</td>\n",
       "      <td>-0.592687</td>\n",
       "      <td>-0.764464</td>\n",
       "      <td>3.283553</td>\n",
       "      <td>3.402909</td>\n",
       "      <td>1.915897</td>\n",
       "      <td>1.451707</td>\n",
       "      <td>2.867383</td>\n",
       "      <td>...</td>\n",
       "      <td>-0.281464</td>\n",
       "      <td>0.133984</td>\n",
       "      <td>-0.249939</td>\n",
       "      <td>-0.550021</td>\n",
       "      <td>3.394275</td>\n",
       "      <td>3.893397</td>\n",
       "      <td>1.989588</td>\n",
       "      <td>2.175786</td>\n",
       "      <td>6.046041</td>\n",
       "      <td>4.935010</td>\n",
       "    </tr>\n",
       "    <tr>\n",
       "      <th>4</th>\n",
       "      <td>M</td>\n",
       "      <td>1.750297</td>\n",
       "      <td>-1.151816</td>\n",
       "      <td>1.776573</td>\n",
       "      <td>1.826229</td>\n",
       "      <td>0.280372</td>\n",
       "      <td>0.539340</td>\n",
       "      <td>1.371011</td>\n",
       "      <td>1.428493</td>\n",
       "      <td>-0.009560</td>\n",
       "      <td>...</td>\n",
       "      <td>1.298575</td>\n",
       "      <td>-1.466770</td>\n",
       "      <td>1.338539</td>\n",
       "      <td>1.220724</td>\n",
       "      <td>0.220556</td>\n",
       "      <td>-0.313395</td>\n",
       "      <td>0.613179</td>\n",
       "      <td>0.729259</td>\n",
       "      <td>-0.868353</td>\n",
       "      <td>-0.397100</td>\n",
       "    </tr>\n",
       "  </tbody>\n",
       "</table>\n",
       "<p>5 rows × 31 columns</p>\n",
       "</div>"
      ],
      "text/plain": [
       "  diagnosis  radius_mean  texture_mean  perimeter_mean  area_mean  \\\n",
       "0         M     1.097064     -2.073335        1.269934   0.984375   \n",
       "1         M     1.829821     -0.353632        1.685955   1.908708   \n",
       "2         M     1.579888      0.456187        1.566503   1.558884   \n",
       "3         M    -0.768909      0.253732       -0.592687  -0.764464   \n",
       "4         M     1.750297     -1.151816        1.776573   1.826229   \n",
       "\n",
       "   smoothness_mean  compactness_mean  concavity_mean  concave points_mean  \\\n",
       "0         1.568466          3.283515        2.652874             2.532475   \n",
       "1        -0.826962         -0.487072       -0.023846             0.548144   \n",
       "2         0.942210          1.052926        1.363478             2.037231   \n",
       "3         3.283553          3.402909        1.915897             1.451707   \n",
       "4         0.280372          0.539340        1.371011             1.428493   \n",
       "\n",
       "   symmetry_mean  ...  radius_worst  texture_worst  perimeter_worst  \\\n",
       "0       2.217515  ...      1.886690      -1.359293         2.303601   \n",
       "1       0.001392  ...      1.805927      -0.369203         1.535126   \n",
       "2       0.939685  ...      1.511870      -0.023974         1.347475   \n",
       "3       2.867383  ...     -0.281464       0.133984        -0.249939   \n",
       "4      -0.009560  ...      1.298575      -1.466770         1.338539   \n",
       "\n",
       "   area_worst  smoothness_worst  compactness_worst  concavity_worst  \\\n",
       "0    2.001237          1.307686           2.616665         2.109526   \n",
       "1    1.890489         -0.375612          -0.430444        -0.146749   \n",
       "2    1.456285          0.527407           1.082932         0.854974   \n",
       "3   -0.550021          3.394275           3.893397         1.989588   \n",
       "4    1.220724          0.220556          -0.313395         0.613179   \n",
       "\n",
       "   concave points_worst  symmetry_worst  fractal_dimension_worst  \n",
       "0              2.296076        2.750622                 1.937015  \n",
       "1              1.087084       -0.243890                 0.281190  \n",
       "2              1.955000        1.152255                 0.201391  \n",
       "3              2.175786        6.046041                 4.935010  \n",
       "4              0.729259       -0.868353                -0.397100  \n",
       "\n",
       "[5 rows x 31 columns]"
      ]
     },
     "execution_count": 3,
     "metadata": {},
     "output_type": "execute_result"
    }
   ],
   "source": [
    "dataset.head()"
   ]
  },
  {
   "cell_type": "markdown",
   "id": "6e033bbf",
   "metadata": {
    "papermill": {
     "duration": 0.009333,
     "end_time": "2023-06-06T20:28:28.197750",
     "exception": false,
     "start_time": "2023-06-06T20:28:28.188417",
     "status": "completed"
    },
    "tags": []
   },
   "source": [
    "**Label Encoder**"
   ]
  },
  {
   "cell_type": "markdown",
   "id": "4da2a8c1",
   "metadata": {
    "papermill": {
     "duration": 0.010064,
     "end_time": "2023-06-06T20:28:28.217628",
     "exception": false,
     "start_time": "2023-06-06T20:28:28.207564",
     "status": "completed"
    },
    "tags": []
   },
   "source": [
    "Label Encoding is converting labels/words into numeric form."
   ]
  },
  {
   "cell_type": "code",
   "execution_count": 4,
   "id": "b76b12b8",
   "metadata": {
    "execution": {
     "iopub.execute_input": "2023-06-06T20:28:28.238974Z",
     "iopub.status.busy": "2023-06-06T20:28:28.238595Z",
     "iopub.status.idle": "2023-06-06T20:28:29.580538Z",
     "shell.execute_reply": "2023-06-06T20:28:29.579494Z"
    },
    "papermill": {
     "duration": 1.355661,
     "end_time": "2023-06-06T20:28:29.583110",
     "exception": false,
     "start_time": "2023-06-06T20:28:28.227449",
     "status": "completed"
    },
    "tags": []
   },
   "outputs": [],
   "source": [
    "from sklearn.preprocessing import LabelEncoder\n",
    "labelencoder = LabelEncoder()\n",
    "dataset['diagnosis'] = labelencoder.fit_transform(dataset['diagnosis'].values)"
   ]
  },
  {
   "cell_type": "markdown",
   "id": "bd5b4001",
   "metadata": {
    "papermill": {
     "duration": 0.009475,
     "end_time": "2023-06-06T20:28:29.602243",
     "exception": false,
     "start_time": "2023-06-06T20:28:29.592768",
     "status": "completed"
    },
    "tags": []
   },
   "source": [
    "**We only have one dataset. We need to divide it into train set and test set.**"
   ]
  },
  {
   "cell_type": "code",
   "execution_count": 5,
   "id": "64709f6c",
   "metadata": {
    "execution": {
     "iopub.execute_input": "2023-06-06T20:28:29.623090Z",
     "iopub.status.busy": "2023-06-06T20:28:29.622702Z",
     "iopub.status.idle": "2023-06-06T20:28:29.751174Z",
     "shell.execute_reply": "2023-06-06T20:28:29.749752Z"
    },
    "papermill": {
     "duration": 0.14232,
     "end_time": "2023-06-06T20:28:29.754052",
     "exception": false,
     "start_time": "2023-06-06T20:28:29.611732",
     "status": "completed"
    },
    "tags": []
   },
   "outputs": [],
   "source": [
    "from sklearn.model_selection import train_test_split"
   ]
  },
  {
   "cell_type": "code",
   "execution_count": 6,
   "id": "f780ba58",
   "metadata": {
    "execution": {
     "iopub.execute_input": "2023-06-06T20:28:29.775426Z",
     "iopub.status.busy": "2023-06-06T20:28:29.775047Z",
     "iopub.status.idle": "2023-06-06T20:28:29.784813Z",
     "shell.execute_reply": "2023-06-06T20:28:29.783712Z"
    },
    "papermill": {
     "duration": 0.023442,
     "end_time": "2023-06-06T20:28:29.787256",
     "exception": false,
     "start_time": "2023-06-06T20:28:29.763814",
     "status": "completed"
    },
    "tags": []
   },
   "outputs": [],
   "source": [
    "train, test = train_test_split(dataset, test_size =0.3)"
   ]
  },
  {
   "cell_type": "markdown",
   "id": "83f7a98d",
   "metadata": {
    "papermill": {
     "duration": 0.00989,
     "end_time": "2023-06-06T20:28:29.807158",
     "exception": false,
     "start_time": "2023-06-06T20:28:29.797268",
     "status": "completed"
    },
    "tags": []
   },
   "source": [
    "**We are trying to guess whether the tumor is benign or malignant.**\n",
    "\n",
    "**Our target variable(X) is the diagnostic column.**\n",
    "\n",
    "**Let's assign properties(Y)**"
   ]
  },
  {
   "cell_type": "code",
   "execution_count": 7,
   "id": "dca2ae8d",
   "metadata": {
    "execution": {
     "iopub.execute_input": "2023-06-06T20:28:29.829530Z",
     "iopub.status.busy": "2023-06-06T20:28:29.828460Z",
     "iopub.status.idle": "2023-06-06T20:28:29.841843Z",
     "shell.execute_reply": "2023-06-06T20:28:29.840467Z"
    },
    "papermill": {
     "duration": 0.028008,
     "end_time": "2023-06-06T20:28:29.844867",
     "exception": false,
     "start_time": "2023-06-06T20:28:29.816859",
     "status": "completed"
    },
    "tags": []
   },
   "outputs": [],
   "source": [
    "X_train = train.drop('diagnosis', axis = 1)\n",
    "y_train = train.loc[:,'diagnosis']\n",
    "\n",
    "X_test = test.drop('diagnosis', axis = 1)\n",
    "y_test = test.loc[:, 'diagnosis']"
   ]
  },
  {
   "cell_type": "markdown",
   "id": "22f1c05e",
   "metadata": {
    "papermill": {
     "duration": 0.009386,
     "end_time": "2023-06-06T20:28:29.864780",
     "exception": false,
     "start_time": "2023-06-06T20:28:29.855394",
     "status": "completed"
    },
    "tags": []
   },
   "source": [
    "* #  First, let's train and test the Logistic Regression classifier."
   ]
  },
  {
   "cell_type": "code",
   "execution_count": 8,
   "id": "2a2ce5a0",
   "metadata": {
    "execution": {
     "iopub.execute_input": "2023-06-06T20:28:29.886581Z",
     "iopub.status.busy": "2023-06-06T20:28:29.885977Z",
     "iopub.status.idle": "2023-06-06T20:28:30.006087Z",
     "shell.execute_reply": "2023-06-06T20:28:30.004804Z"
    },
    "papermill": {
     "duration": 0.134377,
     "end_time": "2023-06-06T20:28:30.008821",
     "exception": false,
     "start_time": "2023-06-06T20:28:29.874444",
     "status": "completed"
    },
    "tags": []
   },
   "outputs": [],
   "source": [
    "from sklearn.linear_model import LogisticRegression"
   ]
  },
  {
   "cell_type": "code",
   "execution_count": 9,
   "id": "592464a0",
   "metadata": {
    "execution": {
     "iopub.execute_input": "2023-06-06T20:28:30.030535Z",
     "iopub.status.busy": "2023-06-06T20:28:30.030122Z",
     "iopub.status.idle": "2023-06-06T20:28:30.035799Z",
     "shell.execute_reply": "2023-06-06T20:28:30.034561Z"
    },
    "papermill": {
     "duration": 0.019802,
     "end_time": "2023-06-06T20:28:30.038401",
     "exception": false,
     "start_time": "2023-06-06T20:28:30.018599",
     "status": "completed"
    },
    "tags": []
   },
   "outputs": [],
   "source": [
    "model = LogisticRegression()"
   ]
  },
  {
   "cell_type": "code",
   "execution_count": 10,
   "id": "91ee8eda",
   "metadata": {
    "execution": {
     "iopub.execute_input": "2023-06-06T20:28:30.060117Z",
     "iopub.status.busy": "2023-06-06T20:28:30.059711Z",
     "iopub.status.idle": "2023-06-06T20:28:30.110771Z",
     "shell.execute_reply": "2023-06-06T20:28:30.109200Z"
    },
    "papermill": {
     "duration": 0.066519,
     "end_time": "2023-06-06T20:28:30.115165",
     "exception": false,
     "start_time": "2023-06-06T20:28:30.048646",
     "status": "completed"
    },
    "tags": []
   },
   "outputs": [
    {
     "data": {
      "text/html": [
       "<style>#sk-container-id-1 {color: black;background-color: white;}#sk-container-id-1 pre{padding: 0;}#sk-container-id-1 div.sk-toggleable {background-color: white;}#sk-container-id-1 label.sk-toggleable__label {cursor: pointer;display: block;width: 100%;margin-bottom: 0;padding: 0.3em;box-sizing: border-box;text-align: center;}#sk-container-id-1 label.sk-toggleable__label-arrow:before {content: \"▸\";float: left;margin-right: 0.25em;color: #696969;}#sk-container-id-1 label.sk-toggleable__label-arrow:hover:before {color: black;}#sk-container-id-1 div.sk-estimator:hover label.sk-toggleable__label-arrow:before {color: black;}#sk-container-id-1 div.sk-toggleable__content {max-height: 0;max-width: 0;overflow: hidden;text-align: left;background-color: #f0f8ff;}#sk-container-id-1 div.sk-toggleable__content pre {margin: 0.2em;color: black;border-radius: 0.25em;background-color: #f0f8ff;}#sk-container-id-1 input.sk-toggleable__control:checked~div.sk-toggleable__content {max-height: 200px;max-width: 100%;overflow: auto;}#sk-container-id-1 input.sk-toggleable__control:checked~label.sk-toggleable__label-arrow:before {content: \"▾\";}#sk-container-id-1 div.sk-estimator input.sk-toggleable__control:checked~label.sk-toggleable__label {background-color: #d4ebff;}#sk-container-id-1 div.sk-label input.sk-toggleable__control:checked~label.sk-toggleable__label {background-color: #d4ebff;}#sk-container-id-1 input.sk-hidden--visually {border: 0;clip: rect(1px 1px 1px 1px);clip: rect(1px, 1px, 1px, 1px);height: 1px;margin: -1px;overflow: hidden;padding: 0;position: absolute;width: 1px;}#sk-container-id-1 div.sk-estimator {font-family: monospace;background-color: #f0f8ff;border: 1px dotted black;border-radius: 0.25em;box-sizing: border-box;margin-bottom: 0.5em;}#sk-container-id-1 div.sk-estimator:hover {background-color: #d4ebff;}#sk-container-id-1 div.sk-parallel-item::after {content: \"\";width: 100%;border-bottom: 1px solid gray;flex-grow: 1;}#sk-container-id-1 div.sk-label:hover label.sk-toggleable__label {background-color: #d4ebff;}#sk-container-id-1 div.sk-serial::before {content: \"\";position: absolute;border-left: 1px solid gray;box-sizing: border-box;top: 0;bottom: 0;left: 50%;z-index: 0;}#sk-container-id-1 div.sk-serial {display: flex;flex-direction: column;align-items: center;background-color: white;padding-right: 0.2em;padding-left: 0.2em;position: relative;}#sk-container-id-1 div.sk-item {position: relative;z-index: 1;}#sk-container-id-1 div.sk-parallel {display: flex;align-items: stretch;justify-content: center;background-color: white;position: relative;}#sk-container-id-1 div.sk-item::before, #sk-container-id-1 div.sk-parallel-item::before {content: \"\";position: absolute;border-left: 1px solid gray;box-sizing: border-box;top: 0;bottom: 0;left: 50%;z-index: -1;}#sk-container-id-1 div.sk-parallel-item {display: flex;flex-direction: column;z-index: 1;position: relative;background-color: white;}#sk-container-id-1 div.sk-parallel-item:first-child::after {align-self: flex-end;width: 50%;}#sk-container-id-1 div.sk-parallel-item:last-child::after {align-self: flex-start;width: 50%;}#sk-container-id-1 div.sk-parallel-item:only-child::after {width: 0;}#sk-container-id-1 div.sk-dashed-wrapped {border: 1px dashed gray;margin: 0 0.4em 0.5em 0.4em;box-sizing: border-box;padding-bottom: 0.4em;background-color: white;}#sk-container-id-1 div.sk-label label {font-family: monospace;font-weight: bold;display: inline-block;line-height: 1.2em;}#sk-container-id-1 div.sk-label-container {text-align: center;}#sk-container-id-1 div.sk-container {/* jupyter's `normalize.less` sets `[hidden] { display: none; }` but bootstrap.min.css set `[hidden] { display: none !important; }` so we also need the `!important` here to be able to override the default hidden behavior on the sphinx rendered scikit-learn.org. See: https://github.com/scikit-learn/scikit-learn/issues/21755 */display: inline-block !important;position: relative;}#sk-container-id-1 div.sk-text-repr-fallback {display: none;}</style><div id=\"sk-container-id-1\" class=\"sk-top-container\"><div class=\"sk-text-repr-fallback\"><pre>LogisticRegression()</pre><b>In a Jupyter environment, please rerun this cell to show the HTML representation or trust the notebook. <br />On GitHub, the HTML representation is unable to render, please try loading this page with nbviewer.org.</b></div><div class=\"sk-container\" hidden><div class=\"sk-item\"><div class=\"sk-estimator sk-toggleable\"><input class=\"sk-toggleable__control sk-hidden--visually\" id=\"sk-estimator-id-1\" type=\"checkbox\" checked><label for=\"sk-estimator-id-1\" class=\"sk-toggleable__label sk-toggleable__label-arrow\">LogisticRegression</label><div class=\"sk-toggleable__content\"><pre>LogisticRegression()</pre></div></div></div></div></div>"
      ],
      "text/plain": [
       "LogisticRegression()"
      ]
     },
     "execution_count": 10,
     "metadata": {},
     "output_type": "execute_result"
    }
   ],
   "source": [
    "model.fit(X_train, y_train)"
   ]
  },
  {
   "cell_type": "markdown",
   "id": "5d644011",
   "metadata": {
    "papermill": {
     "duration": 0.020302,
     "end_time": "2023-06-06T20:28:30.156234",
     "exception": false,
     "start_time": "2023-06-06T20:28:30.135932",
     "status": "completed"
    },
    "tags": []
   },
   "source": [
    "* # We can make predictions on the test dataset using the confusion matrix."
   ]
  },
  {
   "cell_type": "code",
   "execution_count": 11,
   "id": "e4d56e8b",
   "metadata": {
    "execution": {
     "iopub.execute_input": "2023-06-06T20:28:30.199700Z",
     "iopub.status.busy": "2023-06-06T20:28:30.199004Z",
     "iopub.status.idle": "2023-06-06T20:28:30.215976Z",
     "shell.execute_reply": "2023-06-06T20:28:30.214741Z"
    },
    "papermill": {
     "duration": 0.041733,
     "end_time": "2023-06-06T20:28:30.218505",
     "exception": false,
     "start_time": "2023-06-06T20:28:30.176772",
     "status": "completed"
    },
    "tags": []
   },
   "outputs": [
    {
     "data": {
      "text/plain": [
       "array([1, 0, 1, 0, 1, 0, 1, 1, 1, 1, 0, 1, 0, 0, 0, 1, 0, 0, 1, 0, 1, 0,\n",
       "       1, 1, 0, 1, 1, 1, 0, 1, 1, 0, 1, 1, 0, 0, 0, 0, 1, 0, 1, 0, 1, 0,\n",
       "       0, 1, 0, 0, 0, 1, 0, 0, 0, 0, 1, 0, 0, 0, 0, 1, 1, 0, 0, 0, 0, 0,\n",
       "       0, 0, 0, 1, 0, 1, 1, 0, 0, 1, 1, 1, 0, 0, 0, 0, 1, 0, 0, 0, 1, 1,\n",
       "       1, 0, 0, 0, 0, 0, 0, 0, 1, 0, 0, 1, 0, 0, 0, 1, 1, 0, 0, 1, 0, 0,\n",
       "       0, 1, 1, 1, 0, 1, 1, 0, 0, 0, 1, 1, 0, 0, 0, 1, 0, 0, 0, 0, 0, 1,\n",
       "       1, 1, 1, 0, 0, 1, 1, 0, 0, 1, 0, 0, 0, 0, 1, 0, 0, 1, 0, 0, 0, 0,\n",
       "       0, 0, 1, 0, 1, 0, 1, 0, 1, 1, 0, 0, 1, 0, 0, 0, 0])"
      ]
     },
     "execution_count": 11,
     "metadata": {},
     "output_type": "execute_result"
    }
   ],
   "source": [
    "predictions = model.predict(X_test)\n",
    "predictions"
   ]
  },
  {
   "cell_type": "code",
   "execution_count": 12,
   "id": "886e80cd",
   "metadata": {
    "execution": {
     "iopub.execute_input": "2023-06-06T20:28:30.241035Z",
     "iopub.status.busy": "2023-06-06T20:28:30.239746Z",
     "iopub.status.idle": "2023-06-06T20:28:30.248914Z",
     "shell.execute_reply": "2023-06-06T20:28:30.247870Z"
    },
    "papermill": {
     "duration": 0.022719,
     "end_time": "2023-06-06T20:28:30.251222",
     "exception": false,
     "start_time": "2023-06-06T20:28:30.228503",
     "status": "completed"
    },
    "tags": []
   },
   "outputs": [
    {
     "data": {
      "text/plain": [
       "array([[101,   1],\n",
       "       [  4,  65]])"
      ]
     },
     "execution_count": 12,
     "metadata": {},
     "output_type": "execute_result"
    }
   ],
   "source": [
    "from sklearn.metrics import confusion_matrix\n",
    "confusion_matrix(y_test, predictions)"
   ]
  },
  {
   "cell_type": "markdown",
   "id": "d785a04c",
   "metadata": {
    "papermill": {
     "duration": 0.010288,
     "end_time": "2023-06-06T20:28:30.271528",
     "exception": false,
     "start_time": "2023-06-06T20:28:30.261240",
     "status": "completed"
    },
    "tags": []
   },
   "source": [
    "**169 out of 171 predictions are correct.**"
   ]
  },
  {
   "cell_type": "code",
   "execution_count": 13,
   "id": "86724598",
   "metadata": {
    "execution": {
     "iopub.execute_input": "2023-06-06T20:28:30.293744Z",
     "iopub.status.busy": "2023-06-06T20:28:30.293290Z",
     "iopub.status.idle": "2023-06-06T20:28:30.308589Z",
     "shell.execute_reply": "2023-06-06T20:28:30.306964Z"
    },
    "papermill": {
     "duration": 0.029211,
     "end_time": "2023-06-06T20:28:30.310917",
     "exception": false,
     "start_time": "2023-06-06T20:28:30.281706",
     "status": "completed"
    },
    "tags": []
   },
   "outputs": [
    {
     "name": "stdout",
     "output_type": "stream",
     "text": [
      "              precision    recall  f1-score   support\n",
      "\n",
      "           0       0.96      0.99      0.98       102\n",
      "           1       0.98      0.94      0.96        69\n",
      "\n",
      "    accuracy                           0.97       171\n",
      "   macro avg       0.97      0.97      0.97       171\n",
      "weighted avg       0.97      0.97      0.97       171\n",
      "\n"
     ]
    }
   ],
   "source": [
    "from sklearn.metrics import classification_report\n",
    "print(classification_report(y_test, predictions))"
   ]
  },
  {
   "cell_type": "markdown",
   "id": "859fd2a1",
   "metadata": {
    "papermill": {
     "duration": 0.009879,
     "end_time": "2023-06-06T20:28:30.331193",
     "exception": false,
     "start_time": "2023-06-06T20:28:30.321314",
     "status": "completed"
    },
    "tags": []
   },
   "source": [
    "**Our rates are quite high.**"
   ]
  },
  {
   "cell_type": "markdown",
   "id": "f727a70e",
   "metadata": {
    "papermill": {
     "duration": 0.010002,
     "end_time": "2023-06-06T20:28:30.351268",
     "exception": false,
     "start_time": "2023-06-06T20:28:30.341266",
     "status": "completed"
    },
    "tags": []
   },
   "source": [
    "# Let's use another classification algorithm:\n",
    "\n",
    "# SUPPORT VECTOR MACHINE "
   ]
  },
  {
   "cell_type": "code",
   "execution_count": 14,
   "id": "86879c9c",
   "metadata": {
    "execution": {
     "iopub.execute_input": "2023-06-06T20:28:30.373741Z",
     "iopub.status.busy": "2023-06-06T20:28:30.373055Z",
     "iopub.status.idle": "2023-06-06T20:28:30.377687Z",
     "shell.execute_reply": "2023-06-06T20:28:30.376589Z"
    },
    "papermill": {
     "duration": 0.018859,
     "end_time": "2023-06-06T20:28:30.380238",
     "exception": false,
     "start_time": "2023-06-06T20:28:30.361379",
     "status": "completed"
    },
    "tags": []
   },
   "outputs": [],
   "source": [
    "from sklearn.svm import LinearSVC"
   ]
  },
  {
   "cell_type": "code",
   "execution_count": 15,
   "id": "c086bf1f",
   "metadata": {
    "execution": {
     "iopub.execute_input": "2023-06-06T20:28:30.403383Z",
     "iopub.status.busy": "2023-06-06T20:28:30.402718Z",
     "iopub.status.idle": "2023-06-06T20:28:30.408257Z",
     "shell.execute_reply": "2023-06-06T20:28:30.407318Z"
    },
    "papermill": {
     "duration": 0.020043,
     "end_time": "2023-06-06T20:28:30.410637",
     "exception": false,
     "start_time": "2023-06-06T20:28:30.390594",
     "status": "completed"
    },
    "tags": []
   },
   "outputs": [],
   "source": [
    "model_2 = LinearSVC()"
   ]
  },
  {
   "cell_type": "code",
   "execution_count": 16,
   "id": "c266a455",
   "metadata": {
    "execution": {
     "iopub.execute_input": "2023-06-06T20:28:30.433491Z",
     "iopub.status.busy": "2023-06-06T20:28:30.432876Z",
     "iopub.status.idle": "2023-06-06T20:28:30.445633Z",
     "shell.execute_reply": "2023-06-06T20:28:30.444786Z"
    },
    "papermill": {
     "duration": 0.026834,
     "end_time": "2023-06-06T20:28:30.447810",
     "exception": false,
     "start_time": "2023-06-06T20:28:30.420976",
     "status": "completed"
    },
    "tags": []
   },
   "outputs": [
    {
     "data": {
      "text/html": [
       "<style>#sk-container-id-2 {color: black;background-color: white;}#sk-container-id-2 pre{padding: 0;}#sk-container-id-2 div.sk-toggleable {background-color: white;}#sk-container-id-2 label.sk-toggleable__label {cursor: pointer;display: block;width: 100%;margin-bottom: 0;padding: 0.3em;box-sizing: border-box;text-align: center;}#sk-container-id-2 label.sk-toggleable__label-arrow:before {content: \"▸\";float: left;margin-right: 0.25em;color: #696969;}#sk-container-id-2 label.sk-toggleable__label-arrow:hover:before {color: black;}#sk-container-id-2 div.sk-estimator:hover label.sk-toggleable__label-arrow:before {color: black;}#sk-container-id-2 div.sk-toggleable__content {max-height: 0;max-width: 0;overflow: hidden;text-align: left;background-color: #f0f8ff;}#sk-container-id-2 div.sk-toggleable__content pre {margin: 0.2em;color: black;border-radius: 0.25em;background-color: #f0f8ff;}#sk-container-id-2 input.sk-toggleable__control:checked~div.sk-toggleable__content {max-height: 200px;max-width: 100%;overflow: auto;}#sk-container-id-2 input.sk-toggleable__control:checked~label.sk-toggleable__label-arrow:before {content: \"▾\";}#sk-container-id-2 div.sk-estimator input.sk-toggleable__control:checked~label.sk-toggleable__label {background-color: #d4ebff;}#sk-container-id-2 div.sk-label input.sk-toggleable__control:checked~label.sk-toggleable__label {background-color: #d4ebff;}#sk-container-id-2 input.sk-hidden--visually {border: 0;clip: rect(1px 1px 1px 1px);clip: rect(1px, 1px, 1px, 1px);height: 1px;margin: -1px;overflow: hidden;padding: 0;position: absolute;width: 1px;}#sk-container-id-2 div.sk-estimator {font-family: monospace;background-color: #f0f8ff;border: 1px dotted black;border-radius: 0.25em;box-sizing: border-box;margin-bottom: 0.5em;}#sk-container-id-2 div.sk-estimator:hover {background-color: #d4ebff;}#sk-container-id-2 div.sk-parallel-item::after {content: \"\";width: 100%;border-bottom: 1px solid gray;flex-grow: 1;}#sk-container-id-2 div.sk-label:hover label.sk-toggleable__label {background-color: #d4ebff;}#sk-container-id-2 div.sk-serial::before {content: \"\";position: absolute;border-left: 1px solid gray;box-sizing: border-box;top: 0;bottom: 0;left: 50%;z-index: 0;}#sk-container-id-2 div.sk-serial {display: flex;flex-direction: column;align-items: center;background-color: white;padding-right: 0.2em;padding-left: 0.2em;position: relative;}#sk-container-id-2 div.sk-item {position: relative;z-index: 1;}#sk-container-id-2 div.sk-parallel {display: flex;align-items: stretch;justify-content: center;background-color: white;position: relative;}#sk-container-id-2 div.sk-item::before, #sk-container-id-2 div.sk-parallel-item::before {content: \"\";position: absolute;border-left: 1px solid gray;box-sizing: border-box;top: 0;bottom: 0;left: 50%;z-index: -1;}#sk-container-id-2 div.sk-parallel-item {display: flex;flex-direction: column;z-index: 1;position: relative;background-color: white;}#sk-container-id-2 div.sk-parallel-item:first-child::after {align-self: flex-end;width: 50%;}#sk-container-id-2 div.sk-parallel-item:last-child::after {align-self: flex-start;width: 50%;}#sk-container-id-2 div.sk-parallel-item:only-child::after {width: 0;}#sk-container-id-2 div.sk-dashed-wrapped {border: 1px dashed gray;margin: 0 0.4em 0.5em 0.4em;box-sizing: border-box;padding-bottom: 0.4em;background-color: white;}#sk-container-id-2 div.sk-label label {font-family: monospace;font-weight: bold;display: inline-block;line-height: 1.2em;}#sk-container-id-2 div.sk-label-container {text-align: center;}#sk-container-id-2 div.sk-container {/* jupyter's `normalize.less` sets `[hidden] { display: none; }` but bootstrap.min.css set `[hidden] { display: none !important; }` so we also need the `!important` here to be able to override the default hidden behavior on the sphinx rendered scikit-learn.org. See: https://github.com/scikit-learn/scikit-learn/issues/21755 */display: inline-block !important;position: relative;}#sk-container-id-2 div.sk-text-repr-fallback {display: none;}</style><div id=\"sk-container-id-2\" class=\"sk-top-container\"><div class=\"sk-text-repr-fallback\"><pre>LinearSVC()</pre><b>In a Jupyter environment, please rerun this cell to show the HTML representation or trust the notebook. <br />On GitHub, the HTML representation is unable to render, please try loading this page with nbviewer.org.</b></div><div class=\"sk-container\" hidden><div class=\"sk-item\"><div class=\"sk-estimator sk-toggleable\"><input class=\"sk-toggleable__control sk-hidden--visually\" id=\"sk-estimator-id-2\" type=\"checkbox\" checked><label for=\"sk-estimator-id-2\" class=\"sk-toggleable__label sk-toggleable__label-arrow\">LinearSVC</label><div class=\"sk-toggleable__content\"><pre>LinearSVC()</pre></div></div></div></div></div>"
      ],
      "text/plain": [
       "LinearSVC()"
      ]
     },
     "execution_count": 16,
     "metadata": {},
     "output_type": "execute_result"
    }
   ],
   "source": [
    "model_2.fit(X_train, y_train)"
   ]
  },
  {
   "cell_type": "code",
   "execution_count": 17,
   "id": "5b841846",
   "metadata": {
    "execution": {
     "iopub.execute_input": "2023-06-06T20:28:30.471535Z",
     "iopub.status.busy": "2023-06-06T20:28:30.471119Z",
     "iopub.status.idle": "2023-06-06T20:28:30.480944Z",
     "shell.execute_reply": "2023-06-06T20:28:30.479808Z"
    },
    "papermill": {
     "duration": 0.025215,
     "end_time": "2023-06-06T20:28:30.483681",
     "exception": false,
     "start_time": "2023-06-06T20:28:30.458466",
     "status": "completed"
    },
    "tags": []
   },
   "outputs": [
    {
     "data": {
      "text/plain": [
       "array([1, 0, 1, 0, 1, 0, 1, 1, 1, 1, 0, 1, 0, 0, 0, 1, 0, 0, 1, 0, 1, 0,\n",
       "       1, 1, 0, 1, 1, 1, 0, 1, 1, 0, 1, 1, 0, 0, 0, 0, 1, 0, 1, 0, 1, 0,\n",
       "       0, 1, 0, 0, 0, 1, 0, 0, 0, 0, 1, 0, 0, 0, 0, 1, 1, 0, 0, 0, 0, 0,\n",
       "       0, 0, 0, 1, 0, 1, 1, 0, 0, 1, 1, 1, 0, 0, 0, 0, 1, 0, 0, 0, 1, 1,\n",
       "       1, 0, 0, 0, 0, 0, 0, 0, 1, 0, 0, 1, 0, 0, 0, 1, 1, 0, 0, 1, 0, 0,\n",
       "       0, 1, 1, 1, 0, 1, 1, 0, 0, 0, 1, 1, 0, 0, 0, 1, 0, 0, 0, 0, 0, 1,\n",
       "       1, 1, 1, 0, 0, 1, 1, 0, 0, 1, 0, 0, 0, 0, 1, 0, 0, 1, 0, 0, 0, 0,\n",
       "       0, 0, 1, 0, 1, 0, 1, 0, 1, 1, 0, 0, 1, 0, 0, 0, 0])"
      ]
     },
     "execution_count": 17,
     "metadata": {},
     "output_type": "execute_result"
    }
   ],
   "source": [
    "predictions = model_2.predict(X_test)\n",
    "predictions"
   ]
  },
  {
   "cell_type": "code",
   "execution_count": 18,
   "id": "43f160b9",
   "metadata": {
    "execution": {
     "iopub.execute_input": "2023-06-06T20:28:30.506702Z",
     "iopub.status.busy": "2023-06-06T20:28:30.506276Z",
     "iopub.status.idle": "2023-06-06T20:28:30.514505Z",
     "shell.execute_reply": "2023-06-06T20:28:30.513760Z"
    },
    "papermill": {
     "duration": 0.0221,
     "end_time": "2023-06-06T20:28:30.516491",
     "exception": false,
     "start_time": "2023-06-06T20:28:30.494391",
     "status": "completed"
    },
    "tags": []
   },
   "outputs": [
    {
     "data": {
      "text/plain": [
       "array([[101,   1],\n",
       "       [  4,  65]])"
      ]
     },
     "execution_count": 18,
     "metadata": {},
     "output_type": "execute_result"
    }
   ],
   "source": [
    "from sklearn.metrics import confusion_matrix\n",
    "confusion_matrix(y_test, predictions)"
   ]
  },
  {
   "cell_type": "markdown",
   "id": "bada47d6",
   "metadata": {
    "papermill": {
     "duration": 0.0104,
     "end_time": "2023-06-06T20:28:30.537514",
     "exception": false,
     "start_time": "2023-06-06T20:28:30.527114",
     "status": "completed"
    },
    "tags": []
   },
   "source": [
    "**We see that 168 of 171 predictions were correct.**"
   ]
  },
  {
   "cell_type": "code",
   "execution_count": 19,
   "id": "3683228e",
   "metadata": {
    "execution": {
     "iopub.execute_input": "2023-06-06T20:28:30.560687Z",
     "iopub.status.busy": "2023-06-06T20:28:30.560010Z",
     "iopub.status.idle": "2023-06-06T20:28:30.573031Z",
     "shell.execute_reply": "2023-06-06T20:28:30.571782Z"
    },
    "papermill": {
     "duration": 0.027184,
     "end_time": "2023-06-06T20:28:30.575266",
     "exception": false,
     "start_time": "2023-06-06T20:28:30.548082",
     "status": "completed"
    },
    "tags": []
   },
   "outputs": [
    {
     "name": "stdout",
     "output_type": "stream",
     "text": [
      "              precision    recall  f1-score   support\n",
      "\n",
      "           0       0.96      0.99      0.98       102\n",
      "           1       0.98      0.94      0.96        69\n",
      "\n",
      "    accuracy                           0.97       171\n",
      "   macro avg       0.97      0.97      0.97       171\n",
      "weighted avg       0.97      0.97      0.97       171\n",
      "\n"
     ]
    }
   ],
   "source": [
    "from sklearn.metrics import classification_report\n",
    "print(classification_report(y_test, predictions))"
   ]
  },
  {
   "cell_type": "markdown",
   "id": "fd19d2e5",
   "metadata": {
    "papermill": {
     "duration": 0.010483,
     "end_time": "2023-06-06T20:28:30.596783",
     "exception": false,
     "start_time": "2023-06-06T20:28:30.586300",
     "status": "completed"
    },
    "tags": []
   },
   "source": [
    "**When we compare it, we see that logistic regression is better.**"
   ]
  },
  {
   "cell_type": "markdown",
   "id": "c47fe2b6",
   "metadata": {
    "papermill": {
     "duration": 0.010476,
     "end_time": "2023-06-06T20:28:30.617881",
     "exception": false,
     "start_time": "2023-06-06T20:28:30.607405",
     "status": "completed"
    },
    "tags": []
   },
   "source": [
    "# Thank you!!"
   ]
  }
 ],
 "metadata": {
  "kernelspec": {
   "display_name": "Python 3",
   "language": "python",
   "name": "python3"
  },
  "language_info": {
   "codemirror_mode": {
    "name": "ipython",
    "version": 3
   },
   "file_extension": ".py",
   "mimetype": "text/x-python",
   "name": "python",
   "nbconvert_exporter": "python",
   "pygments_lexer": "ipython3",
   "version": "3.10.10"
  },
  "papermill": {
   "default_parameters": {},
   "duration": 15.639303,
   "end_time": "2023-06-06T20:28:31.651134",
   "environment_variables": {},
   "exception": null,
   "input_path": "__notebook__.ipynb",
   "output_path": "__notebook__.ipynb",
   "parameters": {},
   "start_time": "2023-06-06T20:28:16.011831",
   "version": "2.4.0"
  }
 },
 "nbformat": 4,
 "nbformat_minor": 5
}
